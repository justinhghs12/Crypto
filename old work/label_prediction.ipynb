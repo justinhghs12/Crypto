{
 "cells": [
  {
   "cell_type": "code",
   "execution_count": 105,
   "metadata": {},
   "outputs": [],
   "source": [
    "import pandas as pd\n",
    "import numpy as np\n",
    "import matplotlib.pyplot as plt\n",
    "#plt.style.use(\"seaborn\")\n",
    "%matplotlib inline\n",
    "\n",
    "import warnings\n",
    "warnings.simplefilter(\"ignore\")\n",
    "from binance.client import Client\n",
    "import time\n",
    "import statistics as stats\n",
    "from datetime import datetime\n",
    "import random\n",
    "import torch\n",
    "import torch.nn as nn\n",
    "import mlfinlab as ml\n",
    "import glob\n",
    "import matplotlib\n",
    "from sklearn.linear_model import LogisticRegression"
   ]
  },
  {
   "cell_type": "code",
   "execution_count": 2,
   "metadata": {},
   "outputs": [],
   "source": [
    "device = torch.device('cuda' if torch.cuda.is_available() else 'cpu')"
   ]
  },
  {
   "cell_type": "code",
   "execution_count": 3,
   "metadata": {},
   "outputs": [],
   "source": [
    "coin_list=['ADA', 'BNB', 'ETH', 'LINK', 'LTC', 'XRP']"
   ]
  },
  {
   "cell_type": "code",
   "execution_count": 4,
   "metadata": {},
   "outputs": [],
   "source": [
    "weights_path='E:/Users/Justin/Desktop/Course Folders 2020/practicum/weights/breadwinner/'\n",
    "model_path='E:/Users/Justin/Desktop/Course Folders 2020/practicum/weights/mightwork/'\n",
    "#best_weights_path='E:/Users/Justin/Desktop/Course Folders 2020/practicum/weights/best_model'"
   ]
  },
  {
   "cell_type": "code",
   "execution_count": 5,
   "metadata": {},
   "outputs": [
    {
     "name": "stdout",
     "output_type": "stream",
     "text": [
      "E:/Users/Justin/Desktop/Course Folders 2020/practicum/weights/mightwork\\model_ADA.pth\n",
      "E:/Users/Justin/Desktop/Course Folders 2020/practicum/weights/mightwork\\model_BNB.pth\n",
      "E:/Users/Justin/Desktop/Course Folders 2020/practicum/weights/mightwork\\model_ETH.pth\n",
      "E:/Users/Justin/Desktop/Course Folders 2020/practicum/weights/mightwork\\model_LINK.pth\n",
      "E:/Users/Justin/Desktop/Course Folders 2020/practicum/weights/mightwork\\model_LTC.pth\n",
      "E:/Users/Justin/Desktop/Course Folders 2020/practicum/weights/mightwork\\model_normalized_ADA.pth\n",
      "E:/Users/Justin/Desktop/Course Folders 2020/practicum/weights/mightwork\\model_normalized_BNB.pth\n",
      "E:/Users/Justin/Desktop/Course Folders 2020/practicum/weights/mightwork\\model_normalized_ETH.pth\n",
      "E:/Users/Justin/Desktop/Course Folders 2020/practicum/weights/mightwork\\model_normalized_LINK.pth\n",
      "E:/Users/Justin/Desktop/Course Folders 2020/practicum/weights/mightwork\\model_normalized_LTC.pth\n",
      "E:/Users/Justin/Desktop/Course Folders 2020/practicum/weights/mightwork\\model_normalized_XRP.pth\n",
      "E:/Users/Justin/Desktop/Course Folders 2020/practicum/weights/mightwork\\model_XRP.pth\n"
     ]
    }
   ],
   "source": [
    "li=[]\n",
    "\n",
    "all_files = glob.glob(model_path + \"/*.pth\")\n",
    "\n",
    "for i in range(len(all_files)):\n",
    "    print(all_files[i])\n",
    "    x=torch.load(all_files[i])\n",
    "    li.append(x)"
   ]
  },
  {
   "cell_type": "code",
   "execution_count": 6,
   "metadata": {},
   "outputs": [
    {
     "data": {
      "text/plain": [
       "['E:/Users/Justin/Desktop/Course Folders 2020/practicum/weights/mightwork\\\\model_ADA.pth',\n",
       " 'E:/Users/Justin/Desktop/Course Folders 2020/practicum/weights/mightwork\\\\model_BNB.pth',\n",
       " 'E:/Users/Justin/Desktop/Course Folders 2020/practicum/weights/mightwork\\\\model_ETH.pth',\n",
       " 'E:/Users/Justin/Desktop/Course Folders 2020/practicum/weights/mightwork\\\\model_LINK.pth',\n",
       " 'E:/Users/Justin/Desktop/Course Folders 2020/practicum/weights/mightwork\\\\model_LTC.pth',\n",
       " 'E:/Users/Justin/Desktop/Course Folders 2020/practicum/weights/mightwork\\\\model_normalized_ADA.pth',\n",
       " 'E:/Users/Justin/Desktop/Course Folders 2020/practicum/weights/mightwork\\\\model_normalized_BNB.pth',\n",
       " 'E:/Users/Justin/Desktop/Course Folders 2020/practicum/weights/mightwork\\\\model_normalized_ETH.pth',\n",
       " 'E:/Users/Justin/Desktop/Course Folders 2020/practicum/weights/mightwork\\\\model_normalized_LINK.pth',\n",
       " 'E:/Users/Justin/Desktop/Course Folders 2020/practicum/weights/mightwork\\\\model_normalized_LTC.pth',\n",
       " 'E:/Users/Justin/Desktop/Course Folders 2020/practicum/weights/mightwork\\\\model_normalized_XRP.pth',\n",
       " 'E:/Users/Justin/Desktop/Course Folders 2020/practicum/weights/mightwork\\\\model_XRP.pth']"
      ]
     },
     "execution_count": 6,
     "metadata": {},
     "output_type": "execute_result"
    }
   ],
   "source": [
    "all_files"
   ]
  },
  {
   "cell_type": "code",
   "execution_count": 7,
   "metadata": {},
   "outputs": [],
   "source": [
    "ADA_model = li[5]\n",
    "BNB_model = li[1]\n",
    "ETH_model = li[2]\n",
    "LINK_model = li[3]\n",
    "LTC_model = li[4]\n",
    "XRP_model = li[-2]"
   ]
  },
  {
   "cell_type": "code",
   "execution_count": 8,
   "metadata": {},
   "outputs": [],
   "source": [
    "model_dict={'ADA': ADA_model, 'BNB': BNB_model, 'ETH': ETH_model, 'LINK': LINK_model, 'LTC': LTC_model, 'XRP': XRP_model}"
   ]
  },
  {
   "cell_type": "code",
   "execution_count": 124,
   "metadata": {},
   "outputs": [],
   "source": [
    "class LSTM(nn.Module):\n",
    "\n",
    "    def __init__(self, input_dim, hidden_dim, num_layers, output_dim, linear_hidden=52):\n",
    "        super(LSTM, self).__init__()\n",
    "        self.hidden_dim = hidden_dim\n",
    "        self.num_layers = num_layers\n",
    "        self.lstm = nn.LSTM(input_dim, hidden_dim, num_layers, batch_first=True).to(device)\n",
    "        self.l1 = nn.Linear(hidden_dim, linear_hidden).to(device)\n",
    "        self.l2 = nn.Linear(linear_hidden, output_dim).to(device)\n",
    "        self.batch_norm1=nn.BatchNorm1d(hidden_dim)\n",
    "        self.batch_norm2=nn.BatchNorm1d(linear_hidden)\n",
    "        self.sigmoid=nn.Sigmoid()\n",
    "        self.drop = nn.Dropout(.2)\n",
    "        \n",
    "    def forward(self, x):\n",
    "        h0 = torch.zeros(self.num_layers, x.shape[0], self.hidden_dim).requires_grad_()\n",
    "        c0 = torch.zeros(self.num_layers, x.shape[0], self.hidden_dim).requires_grad_()\n",
    "        output, (hn, cn) = self.lstm(x.to(device), (h0.detach().to(device), c0.detach().to(device)))\n",
    "        output=self.batch_norm1(output.permute(0, 2, 1)).permute(0, 2, 1)\n",
    "        out = self.l1(output[:, -1, :])\n",
    "        out=self.l2(self.batch_norm2(self.sigmoid(out)))\n",
    "        return out"
   ]
  },
  {
   "cell_type": "code",
   "execution_count": 10,
   "metadata": {},
   "outputs": [],
   "source": [
    "df_dict = {}\n",
    "\n",
    "directory = '../data/final_data' ### directory with final data\n",
    "all_files = glob.glob(directory + \"/*.csv\")\n",
    "\n",
    "for file in all_files:\n",
    "    \n",
    "    df = pd.read_csv(file, index_col=None, header=0)\n",
    "    df_dict[file.split('\\\\')[1][:-10]] = df ### df dictionary with keys ADA, BNB, ..."
   ]
  },
  {
   "cell_type": "code",
   "execution_count": 11,
   "metadata": {},
   "outputs": [],
   "source": [
    "columns = list(df_dict[coin_list[0]].columns)\n",
    "not_quant = ['Open Time','Close Time', 'bin'] ### take out label and non-quantitative data \n",
    "quants = [i for i in columns if i not in not_quant][1:]"
   ]
  },
  {
   "cell_type": "code",
   "execution_count": 12,
   "metadata": {},
   "outputs": [],
   "source": [
    "def separate(data, break_point=.15, window_length=.05, desired_feature=4):\n",
    "    \n",
    "    #separate into training, testing data \n",
    "    \n",
    "    upper=int((1-break_point) * data.shape[0]) + int(window_length * data.shape[0])\n",
    "    lower=int((1-break_point) * data.shape[0]) - int(window_length * data.shape[0])\n",
    "    \n",
    "    train_x, train_y = data[:lower, :, :], data[1:lower+1, -1, desired_feature]\n",
    "    test_x, test_y = data[upper:-1], data[upper+1:, -1, desired_feature]\n",
    "    \n",
    "    return train_x, train_y, test_x, test_y"
   ]
  },
  {
   "cell_type": "code",
   "execution_count": 13,
   "metadata": {},
   "outputs": [],
   "source": [
    "class Create_Sequences():\n",
    "    def __init__(self, data, seq_len=25): ### feed in df_dict[coin], sequence length\n",
    "        self.seq_len = seq_len       \n",
    "        self.sequences = []\n",
    "        self.data = data\n",
    "        self.create_sequences()\n",
    "\n",
    "    def create_sequences(self):\n",
    "        \n",
    "        self.data = torch.tensor(self.data[quants].values)\n",
    "        \n",
    "        for i in range(self.data.shape[0] - self.seq_len):\n",
    "\n",
    "            sequence=self.data[i:i+self.seq_len] #i, .., i+seq_len-1, i+seq_len\n",
    "            self.sequences.append(sequence)\n",
    "            \n",
    "        self.sequences=torch.stack(self.sequences)#shape of data - seq_len, sequence length, # of features\n",
    "       "
   ]
  },
  {
   "cell_type": "code",
   "execution_count": 14,
   "metadata": {},
   "outputs": [],
   "source": [
    "data=df_dict['ETH']"
   ]
  },
  {
   "cell_type": "markdown",
   "metadata": {},
   "source": [
    "## labeling"
   ]
  },
  {
   "cell_type": "code",
   "execution_count": 15,
   "metadata": {},
   "outputs": [
    {
     "data": {
      "text/plain": [
       "Index(['Unnamed: 0', 'Open Time', 'Time of Day', 'Open', 'High', 'Low',\n",
       "       'Close', 'Volume', 'Close Time', 'Quote asset vol', 'Num trades',\n",
       "       'Taker buy base asset volume', 'Taker buy quote asset volume', 'Status',\n",
       "       'bin', 'Close_pct', 'Open_pct', 'High_pct', 'Low_pct', 'SMA', 'EMA',\n",
       "       'DEMA', 'TEMA', 'KAMA', 'mama', 'fama', 'MIDPOINT', 'MIDPRICE',\n",
       "       'BB_upper', 'BB_ema', 'BB_lower', 'ADX', 'ADXR', 'AROONOSC', 'BOP',\n",
       "       'CCI', 'CMO', 'MACD', 'MACD Signal', 'MFI', 'PPO', 'ROC', 'ROCP',\n",
       "       'ROCR', 'ROCR100', 'RSI', 'fastk', 'fastd', 'SAR', 'ULTOSC', 'WILLR',\n",
       "       'AD', 'ADOSC', 'OBV', 'ATR', 'NATR', 'Spinning Top'],\n",
       "      dtype='object')"
      ]
     },
     "execution_count": 15,
     "metadata": {},
     "output_type": "execute_result"
    }
   ],
   "source": [
    "data.columns"
   ]
  },
  {
   "cell_type": "code",
   "execution_count": 16,
   "metadata": {},
   "outputs": [],
   "source": [
    "data['BB_bin']=0"
   ]
  },
  {
   "cell_type": "code",
   "execution_count": 17,
   "metadata": {},
   "outputs": [],
   "source": [
    "for i in data.index:\n",
    "    if data['Close'][i] > data['BB_upper'][i]:\n",
    "        data['BB_bin'][i]=-1\n",
    "    elif data['Close'][i] < data['BB_lower'][i]:\n",
    "        data['BB_bin'][i]=1     "
   ]
  },
  {
   "cell_type": "code",
   "execution_count": 18,
   "metadata": {},
   "outputs": [
    {
     "data": {
      "text/plain": [
       " 0    50963\n",
       " 1     3940\n",
       "-1     3302\n",
       "Name: BB_bin, dtype: int64"
      ]
     },
     "execution_count": 18,
     "metadata": {},
     "output_type": "execute_result"
    }
   ],
   "source": [
    "data['BB_bin'].value_counts()"
   ]
  },
  {
   "cell_type": "code",
   "execution_count": 19,
   "metadata": {},
   "outputs": [],
   "source": [
    "data['budget_tbm']=0"
   ]
  },
  {
   "cell_type": "code",
   "execution_count": 20,
   "metadata": {},
   "outputs": [],
   "source": [
    "for i in data.index[:-25]:\n",
    "    \n",
    "    for j in range(25):\n",
    "     \n",
    "        if data['BB_upper'][i] < data['Close'][i:i+25].values[j] or data['BB_lower'][i] > data['Close'][i]:\n",
    "            data['budget_tbm'][i] = 1\n",
    "            break\n",
    "    \n",
    "        elif data['BB_lower'][i] > data['Close'][i:i+25].values[j] or data['BB_upper'][i] < data['Close'][i]:\n",
    "            data['budget_tbm'][i]=-1\n",
    "            break"
   ]
  },
  {
   "cell_type": "code",
   "execution_count": 21,
   "metadata": {},
   "outputs": [
    {
     "data": {
      "text/plain": [
       " 1    24724\n",
       "-1    20736\n",
       " 0    12745\n",
       "Name: budget_tbm, dtype: int64"
      ]
     },
     "execution_count": 21,
     "metadata": {},
     "output_type": "execute_result"
    }
   ],
   "source": [
    "data['budget_tbm'].value_counts()"
   ]
  },
  {
   "cell_type": "code",
   "execution_count": 22,
   "metadata": {},
   "outputs": [
    {
     "data": {
      "text/plain": [
       "(58205, 59)"
      ]
     },
     "execution_count": 22,
     "metadata": {},
     "output_type": "execute_result"
    }
   ],
   "source": [
    "data.shape"
   ]
  },
  {
   "cell_type": "code",
   "execution_count": 23,
   "metadata": {},
   "outputs": [],
   "source": [
    "data['dumb_labels']=0"
   ]
  },
  {
   "cell_type": "code",
   "execution_count": 24,
   "metadata": {},
   "outputs": [],
   "source": [
    "for i in data.index[1:-1]:\n",
    "    if data['Close'][i-1] < data['Close'][i] and data['Close'][i] > data['Close'][i+1]:\n",
    "        data['dumb_labels'][i] = -1\n",
    "    elif data['Close'][i-1] > data['Close'][i] and data['Close'][i] < data['Close'][i+1]:\n",
    "        data['dumb_labels'][i] = 1\n",
    "    "
   ]
  },
  {
   "cell_type": "code",
   "execution_count": 25,
   "metadata": {},
   "outputs": [
    {
     "data": {
      "text/plain": [
       " 0    27838\n",
       "-1    15197\n",
       " 1    15170\n",
       "Name: dumb_labels, dtype: int64"
      ]
     },
     "execution_count": 25,
     "metadata": {},
     "output_type": "execute_result"
    }
   ],
   "source": [
    "data['dumb_labels'].value_counts()"
   ]
  },
  {
   "cell_type": "code",
   "execution_count": 26,
   "metadata": {},
   "outputs": [],
   "source": [
    "data['I_saw_this_somewhere']=0"
   ]
  },
  {
   "cell_type": "code",
   "execution_count": 27,
   "metadata": {},
   "outputs": [],
   "source": [
    "for i in data.index[:-13]:\n",
    "    if max(data['Close'][i:i+13])==data['Close'][i+7]:\n",
    "        data['I_saw_this_somewhere'][i] = -1\n",
    "    elif min(data['Close'][i:i+13])==data['Close'][i+7]:\n",
    "        data['I_saw_this_somewhere'][i] = 1"
   ]
  },
  {
   "cell_type": "code",
   "execution_count": 28,
   "metadata": {},
   "outputs": [
    {
     "data": {
      "text/plain": [
       " 0    51757\n",
       " 1     3254\n",
       "-1     3194\n",
       "Name: I_saw_this_somewhere, dtype: int64"
      ]
     },
     "execution_count": 28,
     "metadata": {},
     "output_type": "execute_result"
    }
   ],
   "source": [
    "data['I_saw_this_somewhere'].value_counts()"
   ]
  },
  {
   "cell_type": "code",
   "execution_count": 29,
   "metadata": {},
   "outputs": [
    {
     "data": {
      "text/plain": [
       "(25,)"
      ]
     },
     "execution_count": 29,
     "metadata": {},
     "output_type": "execute_result"
    }
   ],
   "source": [
    "data['Close'][:25].shape"
   ]
  },
  {
   "cell_type": "code",
   "execution_count": 30,
   "metadata": {},
   "outputs": [],
   "source": [
    "sub_df=data[quants]"
   ]
  },
  {
   "cell_type": "code",
   "execution_count": 31,
   "metadata": {},
   "outputs": [
    {
     "data": {
      "text/plain": [
       "(58205, 53)"
      ]
     },
     "execution_count": 31,
     "metadata": {},
     "output_type": "execute_result"
    }
   ],
   "source": [
    "sub_df.shape"
   ]
  },
  {
   "cell_type": "code",
   "execution_count": 32,
   "metadata": {},
   "outputs": [
    {
     "data": {
      "text/plain": [
       "0        0\n",
       "1        0\n",
       "2        0\n",
       "3        0\n",
       "4        1\n",
       "        ..\n",
       "58200    0\n",
       "58201    0\n",
       "58202    0\n",
       "58203    0\n",
       "58204    0\n",
       "Name: budget_tbm, Length: 58205, dtype: int64"
      ]
     },
     "execution_count": 32,
     "metadata": {},
     "output_type": "execute_result"
    }
   ],
   "source": [
    "data['budget_tbm']"
   ]
  },
  {
   "cell_type": "markdown",
   "metadata": {},
   "source": [
    "## convert all data into 25 sequence tensor"
   ]
  },
  {
   "cell_type": "code",
   "execution_count": 33,
   "metadata": {},
   "outputs": [],
   "source": [
    "#data_25_sequences=Create_Sequences(sub_df, 25)\n",
    "#tensored_data_25=data_25_sequences.sequences"
   ]
  },
  {
   "cell_type": "markdown",
   "metadata": {},
   "source": [
    "## network testing"
   ]
  },
  {
   "cell_type": "code",
   "execution_count": 34,
   "metadata": {},
   "outputs": [
    {
     "data": {
      "text/plain": [
       "tensor([4, 1, 3])"
      ]
     },
     "execution_count": 34,
     "metadata": {},
     "output_type": "execute_result"
    }
   ],
   "source": [
    "torch.empty(3, dtype=torch.long).random_(5)"
   ]
  },
  {
   "cell_type": "code",
   "execution_count": 35,
   "metadata": {},
   "outputs": [
    {
     "data": {
      "text/plain": [
       "tensor([[ 0.2301, -0.0761,  1.4232,  0.6374,  2.3724],\n",
       "        [ 0.2428,  0.2650, -0.7417, -0.2958,  0.7790],\n",
       "        [ 0.7050,  0.2612, -0.2548,  0.3897,  0.3112]], requires_grad=True)"
      ]
     },
     "execution_count": 35,
     "metadata": {},
     "output_type": "execute_result"
    }
   ],
   "source": [
    "torch.randn(3, 5, requires_grad=True)"
   ]
  },
  {
   "cell_type": "code",
   "execution_count": 36,
   "metadata": {},
   "outputs": [
    {
     "data": {
      "text/plain": [
       "torch.Size([20, 16])"
      ]
     },
     "execution_count": 36,
     "metadata": {},
     "output_type": "execute_result"
    }
   ],
   "source": [
    "m = nn.Dropout(p=0.2)\n",
    "input = torch.randn(20, 16)\n",
    "output = m(input)\n",
    "output.shape"
   ]
  },
  {
   "cell_type": "code",
   "execution_count": 37,
   "metadata": {},
   "outputs": [
    {
     "data": {
      "text/plain": [
       "torch.Size([1, 100, 35, 45])"
      ]
     },
     "execution_count": 37,
     "metadata": {},
     "output_type": "execute_result"
    }
   ],
   "source": [
    "m = nn.BatchNorm2d(100)\n",
    "# Without Learnable Parameters\n",
    "m = nn.BatchNorm2d(100, affine=False)\n",
    "input = torch.randn(1, 100, 35, 45)\n",
    "output = m(input)\n",
    "output.shape"
   ]
  },
  {
   "cell_type": "markdown",
   "metadata": {},
   "source": [
    "## Training Using budget_tbm"
   ]
  },
  {
   "cell_type": "code",
   "execution_count": 53,
   "metadata": {},
   "outputs": [],
   "source": [
    "budget_tbm=torch.tensor(data['budget_tbm'])"
   ]
  },
  {
   "cell_type": "code",
   "execution_count": 54,
   "metadata": {},
   "outputs": [
    {
     "data": {
      "text/plain": [
       "torch.Size([58205])"
      ]
     },
     "execution_count": 54,
     "metadata": {},
     "output_type": "execute_result"
    }
   ],
   "source": [
    "budget_tbm.shape"
   ]
  },
  {
   "cell_type": "code",
   "execution_count": 55,
   "metadata": {},
   "outputs": [],
   "source": [
    "sequence_length=50\n",
    "data_50_sequences=Create_Sequences(sub_df, sequence_length)\n",
    "x_training=data_50_sequences.sequences[:-6_000]\n",
    "x_testing=data_50_sequences.sequences[-4_500:]"
   ]
  },
  {
   "cell_type": "code",
   "execution_count": 56,
   "metadata": {},
   "outputs": [
    {
     "data": {
      "text/plain": [
       "torch.Size([52155, 50, 53])"
      ]
     },
     "execution_count": 56,
     "metadata": {},
     "output_type": "execute_result"
    }
   ],
   "source": [
    "x_training.shape"
   ]
  },
  {
   "cell_type": "code",
   "execution_count": 92,
   "metadata": {},
   "outputs": [
    {
     "data": {
      "text/plain": [
       "torch.Size([4500, 50, 53])"
      ]
     },
     "execution_count": 92,
     "metadata": {},
     "output_type": "execute_result"
    }
   ],
   "source": [
    "x_testing.shape"
   ]
  },
  {
   "cell_type": "code",
   "execution_count": 93,
   "metadata": {},
   "outputs": [],
   "source": [
    "labels=[1, -1, 0]\n",
    "y_training=[]\n",
    "for i in budget_tbm:\n",
    "    y_training.append(labels.index(i))\n",
    "y_training=torch.tensor(y_training)[sequence_length:-6_000]\n",
    "y_testing=torch.tensor(y_training)[-4_500:]\n"
   ]
  },
  {
   "cell_type": "code",
   "execution_count": 94,
   "metadata": {},
   "outputs": [
    {
     "data": {
      "text/plain": [
       "torch.Size([52155])"
      ]
     },
     "execution_count": 94,
     "metadata": {},
     "output_type": "execute_result"
    }
   ],
   "source": [
    "y_training.shape"
   ]
  },
  {
   "cell_type": "code",
   "execution_count": 95,
   "metadata": {},
   "outputs": [
    {
     "data": {
      "text/plain": [
       "torch.Size([4500])"
      ]
     },
     "execution_count": 95,
     "metadata": {},
     "output_type": "execute_result"
    }
   ],
   "source": [
    "y_testing.shape"
   ]
  },
  {
   "cell_type": "code",
   "execution_count": 57,
   "metadata": {},
   "outputs": [],
   "source": [
    "'''\n",
    "y_training=budget_tbm[sequence_length:-6_000]\n",
    "y_training.shape\n",
    "y_testing=budget_tbm[-4_500:]\n",
    "'''"
   ]
  },
  {
   "cell_type": "code",
   "execution_count": 60,
   "metadata": {},
   "outputs": [
    {
     "data": {
      "text/plain": [
       "torch.Size([4500, 50, 53])"
      ]
     },
     "execution_count": 60,
     "metadata": {},
     "output_type": "execute_result"
    }
   ],
   "source": [
    "x_testing.shape"
   ]
  },
  {
   "cell_type": "code",
   "execution_count": 65,
   "metadata": {},
   "outputs": [
    {
     "data": {
      "text/plain": [
       "(tensor([-1,  0,  1]), tensor([1780,  952, 1768]))"
      ]
     },
     "execution_count": 65,
     "metadata": {},
     "output_type": "execute_result"
    }
   ],
   "source": [
    "torch.unique(y_testing, return_counts=True)"
   ]
  },
  {
   "cell_type": "code",
   "execution_count": 66,
   "metadata": {},
   "outputs": [],
   "source": [
    "colors=['red', 'blue', 'green']"
   ]
  },
  {
   "cell_type": "code",
   "execution_count": 67,
   "metadata": {},
   "outputs": [
    {
     "data": {
      "text/plain": [
       "array([0.036042, 0.03606 , 0.036063, ..., 0.028055, 0.028061, 0.0281  ])"
      ]
     },
     "execution_count": 67,
     "metadata": {},
     "output_type": "execute_result"
    }
   ],
   "source": [
    "data['Close'].values[-4500:]"
   ]
  },
  {
   "cell_type": "code",
   "execution_count": 71,
   "metadata": {},
   "outputs": [
    {
     "data": {
      "text/plain": [
       "4500"
      ]
     },
     "execution_count": 71,
     "metadata": {},
     "output_type": "execute_result"
    }
   ],
   "source": [
    "len(range(4_500))"
   ]
  },
  {
   "cell_type": "code",
   "execution_count": 73,
   "metadata": {},
   "outputs": [
    {
     "data": {
      "image/png": "[encoded data removed]",
      "text/plain": [
       "<Figure size 576x576 with 2 Axes>"
      ]
     },
     "metadata": {
      "needs_background": "light"
     },
     "output_type": "display_data"
    }
   ],
   "source": [
    "fig = plt.figure(figsize=(8,8))\n",
    "plt.scatter(range(4_500), data['Close'].values[-4_500:], c=y_testing, cmap=matplotlib.colors.ListedColormap(colors))\n",
    "\n",
    "cb = plt.colorbar()\n",
    "loc = np.arange(0,max(y_testing),max(y_testing)/float(len(colors)))\n",
    "cb.set_ticks(loc)\n",
    "cb.set_ticklabels(colors)"
   ]
  },
  {
   "cell_type": "code",
   "execution_count": 126,
   "metadata": {},
   "outputs": [],
   "source": [
    "input_dim = 53\n",
    "hidden_dim = 300\n",
    "n_layers = 5\n",
    "output_dim = 3\n",
    "\n",
    "model = LSTM(input_dim, hidden_dim, n_layers, output_dim)\n",
    "model=model.to(device)\n",
    "criterion = nn.CrossEntropyLoss()\n",
    "#criterion = nn.MSELoss(size_average=True)\n",
    "optimizer = torch.optim.Adam(model.parameters(), lr=.01)"
   ]
  },
  {
   "cell_type": "code",
   "execution_count": null,
   "metadata": {},
   "outputs": [],
   "source": [
    "'''\n",
    "ideas:\n",
    "data selection, cluster sampling\n",
    "bootstrapping\n",
    "k-fold cross validation\n",
    "'''"
   ]
  },
  {
   "cell_type": "code",
   "execution_count": 127,
   "metadata": {},
   "outputs": [
    {
     "name": "stdout",
     "output_type": "stream",
     "text": [
      "Epoch:  0 Time:  0.15259075164794922 Loss:  1.2482491731643677\n",
      "Epoch:  50 Time:  0.049866676330566406 Loss:  1.0114800930023193\n",
      "Epoch:  100 Time:  0.05485343933105469 Loss:  1.0628814697265625\n",
      "Epoch:  150 Time:  0.057845354080200195 Loss:  1.1263357400894165\n",
      "Epoch:  200 Time:  0.05186057090759277 Loss:  1.033543586730957\n",
      "Epoch:  250 Time:  0.05186176300048828 Loss:  1.0656867027282715\n",
      "Epoch:  300 Time:  0.05086398124694824 Loss:  1.0644134283065796\n",
      "Epoch:  350 Time:  0.05285930633544922 Loss:  1.1064238548278809\n",
      "Epoch:  400 Time:  0.05086493492126465 Loss:  1.038280963897705\n",
      "Epoch:  450 Time:  0.05186104774475098 Loss:  1.0625554323196411\n",
      "Epoch:  500 Time:  0.05186152458190918 Loss:  1.0712213516235352\n",
      "Epoch:  550 Time:  0.05385589599609375 Loss:  1.0845319032669067\n",
      "Epoch:  600 Time:  0.05385589599609375 Loss:  1.0678589344024658\n",
      "Epoch:  650 Time:  0.050864219665527344 Loss:  1.0995190143585205\n",
      "Epoch:  700 Time:  0.050864219665527344 Loss:  1.1068938970565796\n",
      "Epoch:  750 Time:  0.05186128616333008 Loss:  1.0295511484146118\n",
      "Epoch:  800 Time:  0.05086398124694824 Loss:  1.059769630432129\n",
      "Epoch:  850 Time:  0.05186128616333008 Loss:  1.0550565719604492\n",
      "Epoch:  900 Time:  0.05186128616333008 Loss:  1.1114345788955688\n",
      "Epoch:  950 Time:  0.050864219665527344 Loss:  1.0756992101669312\n",
      "Epoch:  999 Time:  0.049866437911987305 Loss:  1.0706311464309692\n"
     ]
    }
   ],
   "source": [
    "epochs=1_000\n",
    "time_list=[]\n",
    "loss_list=[]\n",
    "torch.cuda.empty_cache()\n",
    "model.train()\n",
    "\n",
    "for i in range(epochs):\n",
    "\n",
    "    indices=random.sample(range(x_training.shape[0]), k=100)\n",
    "    sequences=x_training[indices].to(device)\n",
    "    labels=y_training[indices].to(device)\n",
    "    \n",
    "    start=time.time()\n",
    "    \n",
    "    optimizer.zero_grad()\n",
    "    prediction=model(sequences.float())\n",
    "    loss=criterion(prediction, labels.long())\n",
    "    \n",
    "    loss_list.append(loss.item())\n",
    "    \n",
    "    loss.backward()\n",
    "    optimizer.step()\n",
    "    \n",
    "    end=time.time()\n",
    "    \n",
    "    time_list.append(end-start)\n",
    "    \n",
    "    if i%50==0 or i==epochs-1:\n",
    "        torch.save(model.state_dict(), weights_path+'test.pth')\n",
    "        print('Epoch: ', i, 'Time: ', time_list[-1], 'Loss: ', loss_list[-1])"
   ]
  },
  {
   "cell_type": "code",
   "execution_count": 128,
   "metadata": {},
   "outputs": [
    {
     "ename": "ValueError",
     "evalue": "Expected more than 1 value per channel when training, got input size torch.Size([1, 52])",
     "output_type": "error",
     "traceback": [
      "\u001b[1;31m---------------------------------------------------------------------------\u001b[0m",
      "\u001b[1;31mValueError\u001b[0m                                Traceback (most recent call last)",
      "\u001b[1;32m<ipython-input-128-6836f032b3be>\u001b[0m in \u001b[0;36m<module>\u001b[1;34m\u001b[0m\n\u001b[0;32m      2\u001b[0m     \u001b[0mresults\u001b[0m\u001b[1;33m=\u001b[0m\u001b[1;33m[\u001b[0m\u001b[1;33m]\u001b[0m\u001b[1;33m\u001b[0m\u001b[1;33m\u001b[0m\u001b[0m\n\u001b[0;32m      3\u001b[0m     \u001b[1;32mfor\u001b[0m \u001b[0mi\u001b[0m \u001b[1;32min\u001b[0m \u001b[0mx_testing\u001b[0m\u001b[1;33m:\u001b[0m\u001b[1;33m\u001b[0m\u001b[1;33m\u001b[0m\u001b[0m\n\u001b[1;32m----> 4\u001b[1;33m         \u001b[0mresults\u001b[0m\u001b[1;33m.\u001b[0m\u001b[0mappend\u001b[0m\u001b[1;33m(\u001b[0m\u001b[0mmodel\u001b[0m\u001b[1;33m(\u001b[0m\u001b[0mi\u001b[0m\u001b[1;33m.\u001b[0m\u001b[0mreshape\u001b[0m\u001b[1;33m(\u001b[0m\u001b[1;36m1\u001b[0m\u001b[1;33m,\u001b[0m\u001b[0mi\u001b[0m\u001b[1;33m.\u001b[0m\u001b[0mshape\u001b[0m\u001b[1;33m[\u001b[0m\u001b[1;36m0\u001b[0m\u001b[1;33m]\u001b[0m\u001b[1;33m,\u001b[0m \u001b[0mi\u001b[0m\u001b[1;33m.\u001b[0m\u001b[0mshape\u001b[0m\u001b[1;33m[\u001b[0m\u001b[1;36m1\u001b[0m\u001b[1;33m]\u001b[0m\u001b[1;33m)\u001b[0m\u001b[1;33m.\u001b[0m\u001b[0mfloat\u001b[0m\u001b[1;33m(\u001b[0m\u001b[1;33m)\u001b[0m\u001b[1;33m)\u001b[0m\u001b[1;33m)\u001b[0m\u001b[1;33m\u001b[0m\u001b[1;33m\u001b[0m\u001b[0m\n\u001b[0m",
      "\u001b[1;32mE:\\Users\\Justin\\Anaconda3\\lib\\site-packages\\torch\\nn\\modules\\module.py\u001b[0m in \u001b[0;36m__call__\u001b[1;34m(self, *input, **kwargs)\u001b[0m\n\u001b[0;32m    530\u001b[0m             \u001b[0mresult\u001b[0m \u001b[1;33m=\u001b[0m \u001b[0mself\u001b[0m\u001b[1;33m.\u001b[0m\u001b[0m_slow_forward\u001b[0m\u001b[1;33m(\u001b[0m\u001b[1;33m*\u001b[0m\u001b[0minput\u001b[0m\u001b[1;33m,\u001b[0m \u001b[1;33m**\u001b[0m\u001b[0mkwargs\u001b[0m\u001b[1;33m)\u001b[0m\u001b[1;33m\u001b[0m\u001b[1;33m\u001b[0m\u001b[0m\n\u001b[0;32m    531\u001b[0m         \u001b[1;32melse\u001b[0m\u001b[1;33m:\u001b[0m\u001b[1;33m\u001b[0m\u001b[1;33m\u001b[0m\u001b[0m\n\u001b[1;32m--> 532\u001b[1;33m             \u001b[0mresult\u001b[0m \u001b[1;33m=\u001b[0m \u001b[0mself\u001b[0m\u001b[1;33m.\u001b[0m\u001b[0mforward\u001b[0m\u001b[1;33m(\u001b[0m\u001b[1;33m*\u001b[0m\u001b[0minput\u001b[0m\u001b[1;33m,\u001b[0m \u001b[1;33m**\u001b[0m\u001b[0mkwargs\u001b[0m\u001b[1;33m)\u001b[0m\u001b[1;33m\u001b[0m\u001b[1;33m\u001b[0m\u001b[0m\n\u001b[0m\u001b[0;32m    533\u001b[0m         \u001b[1;32mfor\u001b[0m \u001b[0mhook\u001b[0m \u001b[1;32min\u001b[0m \u001b[0mself\u001b[0m\u001b[1;33m.\u001b[0m\u001b[0m_forward_hooks\u001b[0m\u001b[1;33m.\u001b[0m\u001b[0mvalues\u001b[0m\u001b[1;33m(\u001b[0m\u001b[1;33m)\u001b[0m\u001b[1;33m:\u001b[0m\u001b[1;33m\u001b[0m\u001b[1;33m\u001b[0m\u001b[0m\n\u001b[0;32m    534\u001b[0m             \u001b[0mhook_result\u001b[0m \u001b[1;33m=\u001b[0m \u001b[0mhook\u001b[0m\u001b[1;33m(\u001b[0m\u001b[0mself\u001b[0m\u001b[1;33m,\u001b[0m \u001b[0minput\u001b[0m\u001b[1;33m,\u001b[0m \u001b[0mresult\u001b[0m\u001b[1;33m)\u001b[0m\u001b[1;33m\u001b[0m\u001b[1;33m\u001b[0m\u001b[0m\n",
      "\u001b[1;32m<ipython-input-124-986fd3a46362>\u001b[0m in \u001b[0;36mforward\u001b[1;34m(self, x)\u001b[0m\n\u001b[0;32m     19\u001b[0m         \u001b[0moutput\u001b[0m\u001b[1;33m=\u001b[0m\u001b[0mself\u001b[0m\u001b[1;33m.\u001b[0m\u001b[0mbatch_norm1\u001b[0m\u001b[1;33m(\u001b[0m\u001b[0moutput\u001b[0m\u001b[1;33m.\u001b[0m\u001b[0mpermute\u001b[0m\u001b[1;33m(\u001b[0m\u001b[1;36m0\u001b[0m\u001b[1;33m,\u001b[0m \u001b[1;36m2\u001b[0m\u001b[1;33m,\u001b[0m \u001b[1;36m1\u001b[0m\u001b[1;33m)\u001b[0m\u001b[1;33m)\u001b[0m\u001b[1;33m.\u001b[0m\u001b[0mpermute\u001b[0m\u001b[1;33m(\u001b[0m\u001b[1;36m0\u001b[0m\u001b[1;33m,\u001b[0m \u001b[1;36m2\u001b[0m\u001b[1;33m,\u001b[0m \u001b[1;36m1\u001b[0m\u001b[1;33m)\u001b[0m\u001b[1;33m\u001b[0m\u001b[1;33m\u001b[0m\u001b[0m\n\u001b[0;32m     20\u001b[0m         \u001b[0mout\u001b[0m \u001b[1;33m=\u001b[0m \u001b[0mself\u001b[0m\u001b[1;33m.\u001b[0m\u001b[0ml1\u001b[0m\u001b[1;33m(\u001b[0m\u001b[0moutput\u001b[0m\u001b[1;33m[\u001b[0m\u001b[1;33m:\u001b[0m\u001b[1;33m,\u001b[0m \u001b[1;33m-\u001b[0m\u001b[1;36m1\u001b[0m\u001b[1;33m,\u001b[0m \u001b[1;33m:\u001b[0m\u001b[1;33m]\u001b[0m\u001b[1;33m)\u001b[0m\u001b[1;33m\u001b[0m\u001b[1;33m\u001b[0m\u001b[0m\n\u001b[1;32m---> 21\u001b[1;33m         \u001b[0mout\u001b[0m\u001b[1;33m=\u001b[0m\u001b[0mself\u001b[0m\u001b[1;33m.\u001b[0m\u001b[0ml2\u001b[0m\u001b[1;33m(\u001b[0m\u001b[0mself\u001b[0m\u001b[1;33m.\u001b[0m\u001b[0mbatch_norm2\u001b[0m\u001b[1;33m(\u001b[0m\u001b[0mself\u001b[0m\u001b[1;33m.\u001b[0m\u001b[0msigmoid\u001b[0m\u001b[1;33m(\u001b[0m\u001b[0mout\u001b[0m\u001b[1;33m)\u001b[0m\u001b[1;33m)\u001b[0m\u001b[1;33m)\u001b[0m\u001b[1;33m\u001b[0m\u001b[1;33m\u001b[0m\u001b[0m\n\u001b[0m\u001b[0;32m     22\u001b[0m         \u001b[1;32mreturn\u001b[0m \u001b[0mout\u001b[0m\u001b[1;33m\u001b[0m\u001b[1;33m\u001b[0m\u001b[0m\n",
      "\u001b[1;32mE:\\Users\\Justin\\Anaconda3\\lib\\site-packages\\torch\\nn\\modules\\module.py\u001b[0m in \u001b[0;36m__call__\u001b[1;34m(self, *input, **kwargs)\u001b[0m\n\u001b[0;32m    530\u001b[0m             \u001b[0mresult\u001b[0m \u001b[1;33m=\u001b[0m \u001b[0mself\u001b[0m\u001b[1;33m.\u001b[0m\u001b[0m_slow_forward\u001b[0m\u001b[1;33m(\u001b[0m\u001b[1;33m*\u001b[0m\u001b[0minput\u001b[0m\u001b[1;33m,\u001b[0m \u001b[1;33m**\u001b[0m\u001b[0mkwargs\u001b[0m\u001b[1;33m)\u001b[0m\u001b[1;33m\u001b[0m\u001b[1;33m\u001b[0m\u001b[0m\n\u001b[0;32m    531\u001b[0m         \u001b[1;32melse\u001b[0m\u001b[1;33m:\u001b[0m\u001b[1;33m\u001b[0m\u001b[1;33m\u001b[0m\u001b[0m\n\u001b[1;32m--> 532\u001b[1;33m             \u001b[0mresult\u001b[0m \u001b[1;33m=\u001b[0m \u001b[0mself\u001b[0m\u001b[1;33m.\u001b[0m\u001b[0mforward\u001b[0m\u001b[1;33m(\u001b[0m\u001b[1;33m*\u001b[0m\u001b[0minput\u001b[0m\u001b[1;33m,\u001b[0m \u001b[1;33m**\u001b[0m\u001b[0mkwargs\u001b[0m\u001b[1;33m)\u001b[0m\u001b[1;33m\u001b[0m\u001b[1;33m\u001b[0m\u001b[0m\n\u001b[0m\u001b[0;32m    533\u001b[0m         \u001b[1;32mfor\u001b[0m \u001b[0mhook\u001b[0m \u001b[1;32min\u001b[0m \u001b[0mself\u001b[0m\u001b[1;33m.\u001b[0m\u001b[0m_forward_hooks\u001b[0m\u001b[1;33m.\u001b[0m\u001b[0mvalues\u001b[0m\u001b[1;33m(\u001b[0m\u001b[1;33m)\u001b[0m\u001b[1;33m:\u001b[0m\u001b[1;33m\u001b[0m\u001b[1;33m\u001b[0m\u001b[0m\n\u001b[0;32m    534\u001b[0m             \u001b[0mhook_result\u001b[0m \u001b[1;33m=\u001b[0m \u001b[0mhook\u001b[0m\u001b[1;33m(\u001b[0m\u001b[0mself\u001b[0m\u001b[1;33m,\u001b[0m \u001b[0minput\u001b[0m\u001b[1;33m,\u001b[0m \u001b[0mresult\u001b[0m\u001b[1;33m)\u001b[0m\u001b[1;33m\u001b[0m\u001b[1;33m\u001b[0m\u001b[0m\n",
      "\u001b[1;32mE:\\Users\\Justin\\Anaconda3\\lib\\site-packages\\torch\\nn\\modules\\batchnorm.py\u001b[0m in \u001b[0;36mforward\u001b[1;34m(self, input)\u001b[0m\n\u001b[0;32m    105\u001b[0m             \u001b[0minput\u001b[0m\u001b[1;33m,\u001b[0m \u001b[0mself\u001b[0m\u001b[1;33m.\u001b[0m\u001b[0mrunning_mean\u001b[0m\u001b[1;33m,\u001b[0m \u001b[0mself\u001b[0m\u001b[1;33m.\u001b[0m\u001b[0mrunning_var\u001b[0m\u001b[1;33m,\u001b[0m \u001b[0mself\u001b[0m\u001b[1;33m.\u001b[0m\u001b[0mweight\u001b[0m\u001b[1;33m,\u001b[0m \u001b[0mself\u001b[0m\u001b[1;33m.\u001b[0m\u001b[0mbias\u001b[0m\u001b[1;33m,\u001b[0m\u001b[1;33m\u001b[0m\u001b[1;33m\u001b[0m\u001b[0m\n\u001b[0;32m    106\u001b[0m             \u001b[0mself\u001b[0m\u001b[1;33m.\u001b[0m\u001b[0mtraining\u001b[0m \u001b[1;32mor\u001b[0m \u001b[1;32mnot\u001b[0m \u001b[0mself\u001b[0m\u001b[1;33m.\u001b[0m\u001b[0mtrack_running_stats\u001b[0m\u001b[1;33m,\u001b[0m\u001b[1;33m\u001b[0m\u001b[1;33m\u001b[0m\u001b[0m\n\u001b[1;32m--> 107\u001b[1;33m             exponential_average_factor, self.eps)\n\u001b[0m\u001b[0;32m    108\u001b[0m \u001b[1;33m\u001b[0m\u001b[0m\n\u001b[0;32m    109\u001b[0m \u001b[1;33m\u001b[0m\u001b[0m\n",
      "\u001b[1;32mE:\\Users\\Justin\\Anaconda3\\lib\\site-packages\\torch\\nn\\functional.py\u001b[0m in \u001b[0;36mbatch_norm\u001b[1;34m(input, running_mean, running_var, weight, bias, training, momentum, eps)\u001b[0m\n\u001b[0;32m   1664\u001b[0m             \u001b[0msize_prods\u001b[0m \u001b[1;33m*=\u001b[0m \u001b[0msize\u001b[0m\u001b[1;33m[\u001b[0m\u001b[0mi\u001b[0m \u001b[1;33m+\u001b[0m \u001b[1;36m2\u001b[0m\u001b[1;33m]\u001b[0m\u001b[1;33m\u001b[0m\u001b[1;33m\u001b[0m\u001b[0m\n\u001b[0;32m   1665\u001b[0m         \u001b[1;32mif\u001b[0m \u001b[0msize_prods\u001b[0m \u001b[1;33m==\u001b[0m \u001b[1;36m1\u001b[0m\u001b[1;33m:\u001b[0m\u001b[1;33m\u001b[0m\u001b[1;33m\u001b[0m\u001b[0m\n\u001b[1;32m-> 1666\u001b[1;33m             \u001b[1;32mraise\u001b[0m \u001b[0mValueError\u001b[0m\u001b[1;33m(\u001b[0m\u001b[1;34m'Expected more than 1 value per channel when training, got input size {}'\u001b[0m\u001b[1;33m.\u001b[0m\u001b[0mformat\u001b[0m\u001b[1;33m(\u001b[0m\u001b[0msize\u001b[0m\u001b[1;33m)\u001b[0m\u001b[1;33m)\u001b[0m\u001b[1;33m\u001b[0m\u001b[1;33m\u001b[0m\u001b[0m\n\u001b[0m\u001b[0;32m   1667\u001b[0m \u001b[1;33m\u001b[0m\u001b[0m\n\u001b[0;32m   1668\u001b[0m     return torch.batch_norm(\n",
      "\u001b[1;31mValueError\u001b[0m: Expected more than 1 value per channel when training, got input size torch.Size([1, 52])"
     ]
    }
   ],
   "source": [
    "with torch.no_grad():\n",
    "    results=[]\n",
    "    for i in x_testing:\n",
    "        results.append(model(i.reshape(1,i.shape[0], i.shape[1]).float()))"
   ]
  },
  {
   "cell_type": "code",
   "execution_count": null,
   "metadata": {},
   "outputs": [],
   "source": []
  },
  {
   "cell_type": "code",
   "execution_count": null,
   "metadata": {},
   "outputs": [],
   "source": []
  },
  {
   "cell_type": "code",
   "execution_count": null,
   "metadata": {},
   "outputs": [],
   "source": []
  },
  {
   "cell_type": "code",
   "execution_count": null,
   "metadata": {},
   "outputs": [],
   "source": []
  },
  {
   "cell_type": "code",
   "execution_count": null,
   "metadata": {},
   "outputs": [],
   "source": []
  }
 ],
 "metadata": {
  "kernelspec": {
   "display_name": "Python 3",
   "language": "python",
   "name": "python3"
  },
  "language_info": {
   "codemirror_mode": {
    "name": "ipython",
    "version": 3
   },
   "file_extension": ".py",
   "mimetype": "text/x-python",
   "name": "python",
   "nbconvert_exporter": "python",
   "pygments_lexer": "ipython3",
   "version": "3.7.3"
  }
 },
 "nbformat": 4,
 "nbformat_minor": 4
}
