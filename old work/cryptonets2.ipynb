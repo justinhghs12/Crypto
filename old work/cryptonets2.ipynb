{
 "cells": [
  {
   "cell_type": "code",
   "execution_count": 1,
   "metadata": {},
   "outputs": [],
   "source": [
    "import pandas as pd\n",
    "import numpy as np\n",
    "import matplotlib.pyplot as plt\n",
    "#plt.style.use(\"seaborn\")\n",
    "%matplotlib inline\n",
    "\n",
    "import warnings\n",
    "warnings.simplefilter(\"ignore\")\n",
    "from binance.client import Client\n",
    "import time\n",
    "import statistics as stats\n",
    "from datetime import datetime\n",
    "import random\n",
    "import torch\n",
    "import torch.nn as nn\n",
    "import mlfinlab\n",
    "import glob"
   ]
  },
  {
   "cell_type": "code",
   "execution_count": 2,
   "metadata": {},
   "outputs": [],
   "source": [
    "device = torch.device('cuda' if torch.cuda.is_available() else 'cpu')"
   ]
  },
  {
   "cell_type": "code",
   "execution_count": 3,
   "metadata": {},
   "outputs": [],
   "source": [
    "class LSTM(nn.Module):\n",
    "\n",
    "    def __init__(self, input_dim, hidden_dim, num_layers, output_dim):\n",
    "        super(LSTM, self).__init__()\n",
    "        self.hidden_dim = hidden_dim\n",
    "        self.num_layers = num_layers\n",
    "        self.lstm = nn.LSTM(input_dim, hidden_dim, num_layers, batch_first=True).to(device)\n",
    "        self.l1 = nn.Linear(hidden_dim, output_dim).to(device)\n",
    "        #self.relu = nn.ReLU()\n",
    "\n",
    "    def forward(self, x):\n",
    "        h0 = torch.zeros(self.num_layers, x.shape[0], self.hidden_dim).requires_grad_()\n",
    "        #h0=h0.to(device)\n",
    "        c0 = torch.zeros(self.num_layers, x.shape[0], self.hidden_dim).requires_grad_()\n",
    "        #c0=c0.to(device)\n",
    "        output, (hn, cn) = self.lstm(x.to(device), (h0.detach().to(device), c0.detach().to(device)))\n",
    "        #out = self.relu(self.l1(output[:, -1, :]))\n",
    "        out = self.l1(output[:, -1, :])\n",
    "        return out"
   ]
  },
  {
   "cell_type": "code",
   "execution_count": 4,
   "metadata": {},
   "outputs": [],
   "source": [
    "##bbands\n",
    "##BBANDS(close, timeperiod=25, nbdevup=2, nbdevdn=2, matype=0)\n",
    "##RSE\n",
    "##real = RSI(close, timeperiod=14)\n",
    "##MFI\n",
    "##real = MFI(high, low, close, volume, timeperiod=14)\n",
    "\n",
    "##OBV\n",
    "##real = OBV(close, volume)\n",
    "\n",
    "##Trange\n",
    "##real = TRANGE(high, low, close)"
   ]
  },
  {
   "cell_type": "code",
   "execution_count": 5,
   "metadata": {},
   "outputs": [],
   "source": [
    "df_dict = {}\n",
    "\n",
    "directory = '../data/final_data' ### directory with final data\n",
    "all_files = glob.glob(directory + \"/*.csv\")\n",
    "\n",
    "for file in all_files:\n",
    "    \n",
    "    df = pd.read_csv(file, index_col=None, header=0)\n",
    "    \n",
    "    df_dict[file.split('\\\\')[1][:-10]] = df ### df dictionary with keys ADA, BNB, ..."
   ]
  },
  {
   "cell_type": "code",
   "execution_count": 6,
   "metadata": {},
   "outputs": [
    {
     "name": "stdout",
     "output_type": "stream",
     "text": [
      "['ADA', 'BNB', 'ETH', 'LINK', 'LTC', 'XRP']\n"
     ]
    }
   ],
   "source": [
    "coin_list = list(df_dict.keys())\n",
    "print(coin_list)\n",
    "\n",
    "columns = list(df_dict[coin_list[0]].columns)\n",
    "not_quant = ['Open Time','Close Time', 'bin'] ### take out label and non-quantitative data \n",
    "quants = [i for i in columns if i not in not_quant]"
   ]
  },
  {
   "cell_type": "code",
   "execution_count": 7,
   "metadata": {},
   "outputs": [],
   "source": [
    "class Create_Sequences():\n",
    "    def __init__(self, data, seq_len=25): ### feed in df_dict[coin], sequence length\n",
    "        self.seq_len = seq_len       \n",
    "        self.sequences = []\n",
    "        self.data = data\n",
    "        self.create_sequences()\n",
    "\n",
    "    def create_sequences(self):\n",
    "        \n",
    "        self.data = torch.tensor(self.data[quants].values)\n",
    "        \n",
    "        for i in range(self.data.shape[0] - self.seq_len):\n",
    "\n",
    "            sequence=self.data[i:i+self.seq_len] #i, .., i+seq_len-1, i+seq_len\n",
    "            self.sequences.append(sequence)\n",
    "            \n",
    "        self.sequences=torch.stack(self.sequences)#shape of data - seq_len, sequence length, # of features\n",
    "       "
   ]
  },
  {
   "cell_type": "code",
   "execution_count": 30,
   "metadata": {},
   "outputs": [],
   "source": [
    "def separate(data, break_point=.15, window_length=.05, desired_feature=4):\n",
    "    \n",
    "    #separate into training, testing data \n",
    "    \n",
    "    upper=int((1-break_point) * data.shape[0]) + int(window_length * data.shape[0])\n",
    "    lower=int((1-break_point) * data.shape[0]) - int(window_length * data.shape[0])\n",
    "    \n",
    "    train_x, train_y = data[:lower, :, :], data[1:lower+1, -1, desired_feature]\n",
    "    test_x, test_y = data[upper:-1], data[upper+1:, -1, desired_feature]\n",
    "    \n",
    "    return train_x, train_y, test_x, test_y"
   ]
  },
  {
   "cell_type": "code",
   "execution_count": 9,
   "metadata": {},
   "outputs": [],
   "source": [
    "def take_samples(d, k=5_000, test=False):\n",
    "    \n",
    "    #choose k samples from each coin dict in li (found below)\n",
    "    #used in training \n",
    "    \n",
    "    x=[]\n",
    "    y=[]\n",
    "    \n",
    "    for coin in coin_list:\n",
    "        \n",
    "        if test:\n",
    "            _, _, t_x, t_y= d[coin]\n",
    "        else:\n",
    "            t_x, t_y, _, _ = d[coin]\n",
    "            \n",
    "        indices = random.sample(list(range(0, t_x.shape[0])), k=k)\n",
    "        \n",
    "        x.append(t_x[indices])\n",
    "        y.append(t_y[indices])\n",
    "    \n",
    "    x=torch.cat(x)\n",
    "    y=torch.cat(y)\n",
    "    \n",
    "    return x, y"
   ]
  },
  {
   "cell_type": "code",
   "execution_count": 10,
   "metadata": {},
   "outputs": [],
   "source": [
    "#where to store and extract weights\n",
    "weights_path='E:/Users/Justin/Desktop/Course Folders 2020/practicum/weights/weights.pth'"
   ]
  },
  {
   "cell_type": "code",
   "execution_count": 27,
   "metadata": {},
   "outputs": [],
   "source": [
    "def train(optimizer, criterion, model, epochs=10):\n",
    "    \n",
    "    time_list=[]   \n",
    "    \n",
    "    for _ in range(epochs):\n",
    "        \n",
    "        loss_list=[]\n",
    "        \n",
    "        start=time.time()\n",
    "        \n",
    "        x, y = take_samples(li2)\n",
    "            \n",
    "        sequence = x[i].reshape(1, x[i].shape[0], x[i].shape[1]).to(device)\n",
    "        ret = y[i].to(device)\n",
    "        #print(1)\n",
    "\n",
    "        optimizer.zero_grad()\n",
    "        #model.zero_grad()\n",
    "\n",
    "        result = model(sequence.float().to(device)).to(device)\n",
    "        #print(2)\n",
    "        loss = criterion(result, ret.float())\n",
    "        loss_list.append(loss)\n",
    "        #print(3)\n",
    "        loss.backward()\n",
    "        #print(4)\n",
    "        optimizer.step()\n",
    "        \n",
    "        #print('here2')\n",
    "        end=time.time()\n",
    "        time_list.append(end-start)\n",
    "        print('Epoch: ', _+1, 'Time: ', end-start, 'Loss: ', sum(loss_list).item())\n",
    "        to_save=(optimizer, criterion, epochs, model.state_dict(), model)\n",
    "        torch.save(model.state_dict(), weights_path)\n"
   ]
  },
  {
   "cell_type": "code",
   "execution_count": 12,
   "metadata": {},
   "outputs": [],
   "source": [
    "#validating training data\n",
    "def test(model, data):\n",
    "    \n",
    "    time_list=[]\n",
    "    \n",
    "    start=time.time()\n",
    "    \n",
    "    _, _, test_x, test_y = data\n",
    "    \n",
    "    model.load_state_dict(torch.load('weights.pth'))\n",
    "    \n",
    "    results=[]\n",
    "    \n",
    "    with torch.no_grad():\n",
    "        \n",
    "        for i in range(test_x.shape[0]):\n",
    "            sequence = test_x[i].reshape(1, test_x[i].shape[0], test_x[i].shape[1])\n",
    "            \n",
    "            result = model(sequence)\n",
    "            results.append(result)\n",
    "    \n",
    "    end=time.time()\n",
    "    time_list.append(end-start)\n",
    "    "
   ]
  },
  {
   "cell_type": "code",
   "execution_count": 13,
   "metadata": {},
   "outputs": [
    {
     "name": "stdout",
     "output_type": "stream",
     "text": [
      "ADA\n",
      "BNB\n",
      "ETH\n",
      "LINK\n",
      "LTC\n",
      "XRP\n"
     ]
    }
   ],
   "source": [
    "li={}\n",
    "seq_len=25\n",
    "time_list=[]\n",
    "for coin in coin_list:\n",
    "    start=time.time()\n",
    "    current = Create_Sequences(df_dict[coin], seq_len=seq_len)\n",
    "    li[coin] = current.sequences\n",
    "    time_list.append(time.time()-start)\n",
    "    print(coin)"
   ]
  },
  {
   "cell_type": "code",
   "execution_count": 14,
   "metadata": {},
   "outputs": [
    {
     "name": "stdout",
     "output_type": "stream",
     "text": [
      "ADA torch.Size([51501, 10, 54])\n",
      "BNB torch.Size([58175, 10, 54])\n",
      "ETH torch.Size([58195, 10, 54])\n",
      "LINK torch.Size([54532, 10, 54])\n",
      "LTC torch.Size([58195, 10, 54])\n",
      "XRP torch.Size([52854, 10, 54])\n"
     ]
    }
   ],
   "source": [
    "for coin in coin_list:\n",
    "    print(coin, li[coin].shape)"
   ]
  },
  {
   "cell_type": "code",
   "execution_count": 15,
   "metadata": {},
   "outputs": [],
   "source": [
    "li2 = {}\n",
    "for coin in coin_list:\n",
    "    li2[coin] = separate(li[coin])\n",
    "    torch.save(li2[coin], 'E:/Users/Justin/Desktop/Course Folders 2020/practicum/tensors/'+coin+str(seq_len)+'rev_seq.pth')"
   ]
  },
  {
   "cell_type": "code",
   "execution_count": 16,
   "metadata": {},
   "outputs": [],
   "source": [
    "test_x=[]\n",
    "test_y=[]\n",
    "for coin in coin_list:\n",
    "    _,_, testx, testy = li2[coin]\n",
    "    test_x.append(testx)\n",
    "    test_y.append(testy)"
   ]
  },
  {
   "cell_type": "code",
   "execution_count": 26,
   "metadata": {},
   "outputs": [
    {
     "name": "stdout",
     "output_type": "stream",
     "text": [
      "Epoch:  0 Time:  216.17316889762878 Loss:  5.343841075897217\n",
      "Epoch:  1 Time:  222.67074298858643 Loss:  3.6412644386291504\n",
      "Epoch:  2 Time:  217.3955261707306 Loss:  3.6367228031158447\n",
      "Epoch:  3 Time:  218.7867112159729 Loss:  3.6603944301605225\n",
      "Epoch:  4 Time:  218.49884676933289 Loss:  3.6862566471099854\n",
      "Epoch:  5 Time:  218.39017844200134 Loss:  3.6381354331970215\n",
      "Epoch:  6 Time:  218.4815957546234 Loss:  3.620204210281372\n",
      "Epoch:  7 Time:  218.9376962184906 Loss:  3.6766912937164307\n",
      "Epoch:  8 Time:  219.28498125076294 Loss:  3.650742292404175\n",
      "Epoch:  9 Time:  219.38093733787537 Loss:  3.6384129524230957\n",
      "Epoch:  10 Time:  221.5409824848175 Loss:  3.5860822200775146\n",
      "Epoch:  11 Time:  283.0771379470825 Loss:  3.6228861808776855\n",
      "Epoch:  12 Time:  241.55982398986816 Loss:  3.6389379501342773\n",
      "Epoch:  13 Time:  219.1870141029358 Loss:  3.5215706825256348\n",
      "Epoch:  14 Time:  217.55157113075256 Loss:  3.539924144744873\n"
     ]
    }
   ],
   "source": [
    "input_dim = 54\n",
    "hidden_dim = 24\n",
    "n_layers = 5\n",
    "output_dim = 1\n",
    "\n",
    "model = LSTM(input_dim, hidden_dim, n_layers, output_dim)\n",
    "\n",
    "#criterion = nn.CrossEntropyLoss()\n",
    "criterion = nn.MSELoss(reduction='mean')\n",
    "\n",
    "optimizer = torch.optim.SGD(model.parameters(), lr=.001)\n",
    "#optimizer = torch.optim.Adam(model.parameters(), lr=.1)\n",
    "\n",
    "model=model.to(device)\n",
    "train(optimizer, criterion, model, 15)"
   ]
  },
  {
   "cell_type": "code",
   "execution_count": null,
   "metadata": {},
   "outputs": [],
   "source": []
  },
  {
   "cell_type": "code",
   "execution_count": 18,
   "metadata": {},
   "outputs": [
    {
     "data": {
      "text/plain": [
       "torch.Size([12875, 10, 54])"
      ]
     },
     "execution_count": 18,
     "metadata": {},
     "output_type": "execute_result"
    }
   ],
   "source": [
    "li2['ADA'][2].shape"
   ]
  },
  {
   "cell_type": "code",
   "execution_count": 28,
   "metadata": {},
   "outputs": [],
   "source": [
    "li3={}\n",
    "\n",
    "for coin in coin_list:\n",
    "    result=[]\n",
    "    model.load_state_dict(torch.load(weights_path))\n",
    "    with torch.no_grad():\n",
    "        for i in li2[coin][2]:\n",
    "            sequence=i.reshape(1, i.shape[0], i.shape[1]).float()\n",
    "            result.append(model(sequence))\n",
    "            \n",
    "    li3[coin]=result"
   ]
  },
  {
   "cell_type": "code",
   "execution_count": 20,
   "metadata": {},
   "outputs": [
    {
     "data": {
      "text/plain": [
       "-0.8063179850578308"
      ]
     },
     "execution_count": 20,
     "metadata": {},
     "output_type": "execute_result"
    }
   ],
   "source": [
    "li3['ADA'][0].item()"
   ]
  },
  {
   "cell_type": "code",
   "execution_count": 29,
   "metadata": {},
   "outputs": [
    {
     "data": {
      "image/png": "[encoded data removed]",
      "text/plain": [
       "<Figure size 432x288 with 1 Axes>"
      ]
     },
     "metadata": {
      "needs_background": "light"
     },
     "output_type": "display_data"
    }
   ],
   "source": [
    "plt.plot(li3['ADA'],color='r')\n",
    "plt.plot(li2['ADA'][3],color='b')\n",
    "\n",
    "plt.show()"
   ]
  }
 ],
 "metadata": {
  "kernelspec": {
   "display_name": "Python 3",
   "language": "python",
   "name": "python3"
  },
  "language_info": {
   "codemirror_mode": {
    "name": "ipython",
    "version": 3
   },
   "file_extension": ".py",
   "mimetype": "text/x-python",
   "name": "python",
   "nbconvert_exporter": "python",
   "pygments_lexer": "ipython3",
   "version": "3.7.3"
  }
 },
 "nbformat": 4,
 "nbformat_minor": 4
}
