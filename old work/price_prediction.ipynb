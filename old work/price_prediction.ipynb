{
 "cells": [
  {
   "cell_type": "code",
   "execution_count": 1,
   "metadata": {},
   "outputs": [],
   "source": [
    "import pandas as pd\n",
    "import numpy as np\n",
    "import matplotlib.pyplot as plt\n",
    "#plt.style.use(\"seaborn\")\n",
    "%matplotlib inline\n",
    "\n",
    "import warnings\n",
    "warnings.simplefilter(\"ignore\")\n",
    "from binance.client import Client\n",
    "import time\n",
    "import statistics as stats\n",
    "from datetime import datetime\n",
    "import random\n",
    "import torch\n",
    "import torch.nn as nn\n",
    "import mlfinlab\n",
    "import glob"
   ]
  },
  {
   "cell_type": "code",
   "execution_count": 2,
   "metadata": {},
   "outputs": [],
   "source": [
    "#choose cuda if available\n",
    "device = torch.device('cuda' if torch.cuda.is_available() else 'cpu')"
   ]
  },
  {
   "cell_type": "code",
   "execution_count": 3,
   "metadata": {},
   "outputs": [],
   "source": [
    "#target currency /BTC\n",
    "coin_list=['ADA', 'BNB', 'ETH', 'LINK', 'LTC', 'XRP']"
   ]
  },
  {
   "cell_type": "code",
   "execution_count": 4,
   "metadata": {},
   "outputs": [],
   "source": [
    "#stored_tensors\n",
    "tensor_files='E:/Users/Justin/Desktop/Course Folders 2020/practicum/tensors/25_price'"
   ]
  },
  {
   "cell_type": "code",
   "execution_count": 5,
   "metadata": {},
   "outputs": [],
   "source": [
    "#stored weights\n",
    "weights_path='E:/Users/Justin/Desktop/Course Folders 2020/practicum/weights/model/'\n",
    "best_weights_path='E:/Users/Justin/Desktop/Course Folders 2020/practicum/weights/best_model'"
   ]
  },
  {
   "cell_type": "code",
   "execution_count": 6,
   "metadata": {},
   "outputs": [],
   "source": [
    "#loads pth files that contain the tensors for training and testing\n",
    "li=[]\n",
    "\n",
    "all_files = glob.glob(tensor_files + \"/*.pth\")\n",
    "for i in range(len(all_files)):\n",
    "    \n",
    "    x=torch.load(all_files[i])\n",
    "    li.append(x)\n"
   ]
  },
  {
   "cell_type": "code",
   "execution_count": 7,
   "metadata": {},
   "outputs": [],
   "source": [
    "class LSTM(nn.Module):\n",
    "\n",
    "    def __init__(self, input_dim, hidden_dim, num_layers, output_dim):\n",
    "        super(LSTM, self).__init__()\n",
    "        self.hidden_dim = hidden_dim\n",
    "        self.num_layers = num_layers\n",
    "        self.lstm = nn.LSTM(input_dim, hidden_dim, num_layers, batch_first=True).to(device)\n",
    "        self.l1 = nn.Linear(hidden_dim, output_dim).to(device)\n",
    "        self.drop = nn.Dropout(.2)\n",
    "        self.relu = nn.ReLU()\n",
    "        \n",
    "    def forward(self, x):\n",
    "        h0 = torch.zeros(self.num_layers, x.shape[0], self.hidden_dim).requires_grad_()\n",
    "        c0 = torch.zeros(self.num_layers, x.shape[0], self.hidden_dim).requires_grad_()\n",
    "        output, hidden_state = self.lstm(x.to(device), (h0.detach().to(device), c0.detach().to(device)))\n",
    "        lstm_out = self.relu(output[:, -1, :])\n",
    "        out = self.l1(lstm_out)\n",
    "        return out"
   ]
  },
  {
   "cell_type": "code",
   "execution_count": 8,
   "metadata": {},
   "outputs": [],
   "source": [
    "class Net(nn.Module):\n",
    "    def __init__(self, input_size, output_size):\n",
    "        super(Net, self).__init__()\n",
    "        self.fc1 = nn.Linear(input_size, 300)\n",
    "        self.fc2 = nn.Linear(300, 150)\n",
    "        self.fc3 = nn.Linear(150, 60)\n",
    "        self.fc4 = nn.Linear(60, output_size)\n",
    "        self.sigmoid = nn.Sigmoid()\n",
    "\n",
    "    def forward(self, x):\n",
    "        x = self.sigmoid(self.fc1(x))\n",
    "        x = self.sigmoid(self.fc2(x))\n",
    "        x = self.sigmoid(self.fc3(x))\n",
    "        return self.sigmoid(self.fc4(x))"
   ]
  },
  {
   "cell_type": "code",
   "execution_count": 9,
   "metadata": {},
   "outputs": [],
   "source": [
    "class GRU(nn.Module):\n",
    "\n",
    "    def __init__(self, input_dim, hidden_dim, num_layers, output_dim):\n",
    "        super(GRU, self).__init__()\n",
    "        self.hidden_dim = hidden_dim\n",
    "        self.num_layers = num_layers\n",
    "        self.gru = nn.GRU(input_dim, hidden_dim, num_layers, batch_first=True)\n",
    "        self.l1 = nn.Linear(hidden_dim, output_dim)\n",
    "\n",
    "    def forward(self, x):\n",
    "        h0 = torch.zeros(self.num_layers, x.shape[0], self.hidden_dim).requires_grad_()\n",
    "        output, hn = self.gru(x.to(device), h0.detach().to(device)) \n",
    "        out = self.l1(output[:, -1, :])\n",
    "        return out"
   ]
  },
  {
   "cell_type": "code",
   "execution_count": 10,
   "metadata": {},
   "outputs": [],
   "source": [
    "coin='XRP'\n",
    "test = li[1][coin]"
   ]
  },
  {
   "cell_type": "code",
   "execution_count": 11,
   "metadata": {},
   "outputs": [],
   "source": [
    "training_data = test[0]"
   ]
  },
  {
   "cell_type": "code",
   "execution_count": 12,
   "metadata": {},
   "outputs": [],
   "source": [
    "testing_data = test[1]"
   ]
  },
  {
   "cell_type": "code",
   "execution_count": 13,
   "metadata": {},
   "outputs": [
    {
     "name": "stdout",
     "output_type": "stream",
     "text": [
      "torch.Size([44935, 24, 1])\n",
      "torch.Size([44935, 1])\n"
     ]
    }
   ],
   "source": [
    "print(training_data[0].shape)\n",
    "print(training_data[1].shape)"
   ]
  },
  {
   "cell_type": "code",
   "execution_count": 14,
   "metadata": {},
   "outputs": [
    {
     "name": "stdout",
     "output_type": "stream",
     "text": [
      "torch.Size([2618, 24, 1])\n",
      "torch.Size([2618, 1])\n"
     ]
    }
   ],
   "source": [
    "print(testing_data[0].shape)\n",
    "print(testing_data[1].shape)"
   ]
  },
  {
   "cell_type": "code",
   "execution_count": 15,
   "metadata": {},
   "outputs": [],
   "source": [
    "x_train=training_data[0]\n",
    "y_train=training_data[1]\n",
    "x_test=testing_data[0]\n",
    "y_test=testing_data[1]"
   ]
  },
  {
   "cell_type": "code",
   "execution_count": 16,
   "metadata": {},
   "outputs": [],
   "source": [
    "def min_max_scaling(x):\n",
    "    return (x-torch.min(x))/(torch.max(x)-torch.min(x))"
   ]
  },
  {
   "cell_type": "code",
   "execution_count": 17,
   "metadata": {},
   "outputs": [],
   "source": [
    "input_dim = 1\n",
    "hidden_dim = 32\n",
    "n_layers = 2\n",
    "output_dim = 1\n",
    "\n",
    "model = LSTM(input_dim, hidden_dim, n_layers, output_dim)\n",
    "#model = GRU(input_dim, hidden_dim, n_layers, output_dim)\n",
    "model.to(device)\n",
    "\n",
    "#criterion = nn.CrossEntropyLoss()\n",
    "criterion = nn.MSELoss(size_average=True)\n",
    "\n",
    "#optimizer = torch.optim.SGD(model.parameters(), lr=.1)\n",
    "optimizer = torch.optim.Adam(model.parameters(), lr=.01)"
   ]
  },
  {
   "cell_type": "code",
   "execution_count": 18,
   "metadata": {},
   "outputs": [],
   "source": [
    "torch.cuda.empty_cache()"
   ]
  },
  {
   "cell_type": "markdown",
   "metadata": {},
   "source": [
    "## Training"
   ]
  },
  {
   "cell_type": "code",
   "execution_count": 19,
   "metadata": {},
   "outputs": [
    {
     "name": "stdout",
     "output_type": "stream",
     "text": [
      "Epoch:  0 Time:  0.2503483295440674 Loss:  0.001738796359859407\n",
      "Epoch:  100 Time:  0.010971307754516602 Loss:  5.0863184775096215e-09\n",
      "Epoch:  200 Time:  0.012966156005859375 Loss:  5.413880455051867e-10\n",
      "Epoch:  300 Time:  0.00997304916381836 Loss:  5.485568665974938e-10\n",
      "Epoch:  400 Time:  0.008975505828857422 Loss:  5.218323551048343e-10\n",
      "Epoch:  500 Time:  0.01196742057800293 Loss:  5.059477281577074e-10\n",
      "Epoch:  600 Time:  0.009974241256713867 Loss:  5.032869676568907e-10\n",
      "Epoch:  700 Time:  0.011968135833740234 Loss:  4.698159639104915e-10\n",
      "Epoch:  800 Time:  0.011968612670898438 Loss:  5.214832454747409e-10\n",
      "Epoch:  900 Time:  0.009973287582397461 Loss:  5.199075059358904e-10\n",
      "Epoch:  1000 Time:  0.009972333908081055 Loss:  4.860858382471633e-10\n",
      "Epoch:  1100 Time:  0.011968851089477539 Loss:  5.471551545177533e-10\n",
      "Epoch:  1200 Time:  0.009973287582397461 Loss:  4.951743459713498e-10\n",
      "Epoch:  1300 Time:  0.009973764419555664 Loss:  5.910500977535094e-10\n",
      "Epoch:  1400 Time:  0.009972333908081055 Loss:  4.804158182381002e-10\n",
      "Epoch:  1500 Time:  0.010970354080200195 Loss:  5.559744886696194e-10\n",
      "Epoch:  1600 Time:  0.011968374252319336 Loss:  4.750956295040965e-10\n",
      "Epoch:  1700 Time:  0.010969877243041992 Loss:  5.185726292822324e-10\n",
      "Epoch:  1800 Time:  0.010970592498779297 Loss:  5.356598498096332e-10\n",
      "Epoch:  1900 Time:  0.00898289680480957 Loss:  5.39811528810219e-10\n",
      "Epoch:  2000 Time:  0.00997304916381836 Loss:  4.775703166259859e-10\n",
      "Epoch:  2100 Time:  0.010971546173095703 Loss:  5.168601657778993e-10\n",
      "Epoch:  2200 Time:  0.00997304916381836 Loss:  1.9859353272977387e-08\n",
      "Epoch:  2300 Time:  0.009973287582397461 Loss:  1.0172571673905395e-09\n",
      "Epoch:  2400 Time:  0.010970830917358398 Loss:  2.54436116620127e-09\n"
     ]
    }
   ],
   "source": [
    "#'''\n",
    "epochs=2500\n",
    "time_list=[]\n",
    "loss_list=[]\n",
    "torch.cuda.empty_cache()\n",
    "model.train()\n",
    "\n",
    "for i in range(epochs):\n",
    "    \n",
    "    start=time.time()\n",
    "    \n",
    "    #k=batch_size\n",
    "    indices=random.sample(list(range(20_000, x_train.shape[0])), k=500)\n",
    "    \n",
    "    sequence=x_train[indices].to(device)\n",
    "    label=y_train[indices].to(device) \n",
    "    \n",
    "    optimizer.zero_grad()\n",
    "    prediction=model(sequence)\n",
    "    loss=criterion(prediction, label)\n",
    "    \n",
    "    loss_list.append(loss.item())\n",
    "    \n",
    "    #model.zero_grad()\n",
    "    loss.backward()\n",
    "    optimizer.step()\n",
    "    \n",
    "    end=time.time()\n",
    "    \n",
    "    if i%50==0 or i==epochs-1:\n",
    "        torch.save(model.state_dict(), weights_path+'_'+coin+'.pth')\n",
    "    \n",
    "    time_list.append(end-start)\n",
    "    \n",
    "    if i%100==0:\n",
    "        print('Epoch: ', i, 'Time: ', time_list[-1], 'Loss: ', loss_list[-1])\n",
    "#'''"
   ]
  },
  {
   "cell_type": "code",
   "execution_count": 20,
   "metadata": {},
   "outputs": [
    {
     "data": {
      "text/plain": [
       "\"\\nepochs=100\\ntime_list=[]\\nloss_list=[]\\ntorch.cuda.empty_cache()\\nmodel.train()\\n\\nfor i in range(epochs):\\n    \\n    start=time.time()\\n    \\n    sequence=x_train[20000:].to(device)\\n    label=y_train[20000:].to(device)\\n    \\n    optimizer.zero_grad()\\n    prediction=model(sequence)\\n    loss=criterion(prediction, label)\\n    \\n    loss_list.append(loss.item())\\n    \\n    #model.zero_grad()\\n    loss.backward()\\n    optimizer.step()\\n    \\n    if i%2==0 or i==epochs-1:\\n        #saving=(i,optimizer,criterion,model.state_dict(),model)\\n        torch.save(model.state_dict(), weights_path+coin+'.pth')\\n    \\n    end=time.time()\\n    \\n    time_list.append(end-start)\\n    \\n    print('Epoch: ', i, 'Time: ', time_list[-1], 'Loss: ', loss_list[-1])\\n#\""
      ]
     },
     "execution_count": 20,
     "metadata": {},
     "output_type": "execute_result"
    }
   ],
   "source": [
    "'''\n",
    "epochs=100\n",
    "time_list=[]\n",
    "loss_list=[]\n",
    "torch.cuda.empty_cache()\n",
    "model.train()\n",
    "\n",
    "for i in range(epochs):\n",
    "    \n",
    "    start=time.time()\n",
    "    \n",
    "    sequence=x_train[20000:].to(device)\n",
    "    label=y_train[20000:].to(device)\n",
    "    \n",
    "    optimizer.zero_grad()\n",
    "    prediction=model(sequence)\n",
    "    loss=criterion(prediction, label)\n",
    "    \n",
    "    loss_list.append(loss.item())\n",
    "    \n",
    "    #model.zero_grad()\n",
    "    loss.backward()\n",
    "    optimizer.step()\n",
    "    \n",
    "    if i%2==0 or i==epochs-1:\n",
    "        #saving=(i,optimizer,criterion,model.state_dict(),model)\n",
    "        torch.save(model.state_dict(), weights_path+coin+'.pth')\n",
    "    \n",
    "    end=time.time()\n",
    "    \n",
    "    time_list.append(end-start)\n",
    "    \n",
    "    print('Epoch: ', i, 'Time: ', time_list[-1], 'Loss: ', loss_list[-1])\n",
    "#'''"
   ]
  },
  {
   "cell_type": "markdown",
   "metadata": {},
   "source": [
    "## Testing"
   ]
  },
  {
   "cell_type": "code",
   "execution_count": 21,
   "metadata": {},
   "outputs": [],
   "source": [
    "#model.eval()\n",
    "with torch.no_grad():\n",
    "    trained_predictions=model(x_test)"
   ]
  },
  {
   "cell_type": "code",
   "execution_count": 22,
   "metadata": {},
   "outputs": [],
   "source": [
    "trained_ratios=[1]\n",
    "for i in range(1, trained_predictions.shape[0]):\n",
    "    trained_ratios.append(trained_predictions[i]/trained_predictions[i-1] - 1)"
   ]
  },
  {
   "cell_type": "code",
   "execution_count": 23,
   "metadata": {},
   "outputs": [],
   "source": [
    "test_ratios=[1]\n",
    "for i in range(1, y_test.shape[0]):\n",
    "    test_ratios.append(y_test[i]/y_test[i-1] - 1)"
   ]
  },
  {
   "cell_type": "code",
   "execution_count": 24,
   "metadata": {},
   "outputs": [
    {
     "data": {
      "image/png": "[encoded data removed]",
      "text/plain": [
       "<Figure size 432x288 with 1 Axes>"
      ]
     },
     "metadata": {
      "needs_background": "light"
     },
     "output_type": "display_data"
    }
   ],
   "source": [
    "plt.plot(trained_ratios[1:2500])\n",
    "plt.plot(test_ratios[1:2500])\n",
    "\n",
    "plt.show()"
   ]
  },
  {
   "cell_type": "code",
   "execution_count": 25,
   "metadata": {},
   "outputs": [
    {
     "data": {
      "text/plain": [
       "torch.Size([2618, 1])"
      ]
     },
     "execution_count": 25,
     "metadata": {},
     "output_type": "execute_result"
    }
   ],
   "source": [
    "trained_predictions.shape"
   ]
  },
  {
   "cell_type": "code",
   "execution_count": 26,
   "metadata": {},
   "outputs": [
    {
     "data": {
      "image/png": "[encoded data removed]",
      "text/plain": [
       "<Figure size 432x288 with 1 Axes>"
      ]
     },
     "metadata": {
      "needs_background": "light"
     },
     "output_type": "display_data"
    }
   ],
   "source": [
    "plt.plot(trained_predictions.cpu().detach().numpy(), color='r')\n",
    "plt.plot(y_test, color='b')\n",
    "plt.title(coin)\n",
    "\n",
    "plt.show()"
   ]
  },
  {
   "cell_type": "code",
   "execution_count": 27,
   "metadata": {},
   "outputs": [
    {
     "data": {
      "image/png": "[encoded data removed]",
      "text/plain": [
       "<Figure size 432x288 with 1 Axes>"
      ]
     },
     "metadata": {
      "needs_background": "light"
     },
     "output_type": "display_data"
    }
   ],
   "source": [
    "plt.plot(trained_predictions.cpu().detach().numpy(), color='r')\n",
    "plt.title(coin)\n",
    "\n",
    "plt.show()"
   ]
  },
  {
   "cell_type": "code",
   "execution_count": 28,
   "metadata": {},
   "outputs": [
    {
     "data": {
      "text/plain": [
       "[<matplotlib.lines.Line2D at 0x1f886075390>]"
      ]
     },
     "execution_count": 28,
     "metadata": {},
     "output_type": "execute_result"
    },
    {
     "data": {
      "image/png": "[encoded data removed]",
      "text/plain": [
       "<Figure size 432x288 with 1 Axes>"
      ]
     },
     "metadata": {
      "needs_background": "light"
     },
     "output_type": "display_data"
    }
   ],
   "source": [
    "plt.plot(y_test, color='b')"
   ]
  },
  {
   "cell_type": "markdown",
   "metadata": {},
   "source": [
    "## Normalization"
   ]
  },
  {
   "cell_type": "code",
   "execution_count": 29,
   "metadata": {},
   "outputs": [],
   "source": [
    "x_train_normalized=min_max_scaling(x_train)"
   ]
  },
  {
   "cell_type": "code",
   "execution_count": 30,
   "metadata": {},
   "outputs": [],
   "source": [
    "input_dim = 1\n",
    "hidden_dim = 32\n",
    "n_layers = 2\n",
    "output_dim = 1\n",
    "\n",
    "model = LSTM(input_dim, hidden_dim, n_layers, output_dim)\n",
    "#model = GRU(input_dim, hidden_dim, n_layers, output_dim)\n",
    "model.to(device)\n",
    "\n",
    "#criterion = nn.CrossEntropyLoss()\n",
    "criterion = nn.MSELoss(size_average=True)\n",
    "\n",
    "#optimizer = torch.optim.SGD(model.parameters(), lr=.1)\n",
    "optimizer = torch.optim.Adam(model.parameters(), lr=.001)"
   ]
  },
  {
   "cell_type": "code",
   "execution_count": 31,
   "metadata": {},
   "outputs": [
    {
     "name": "stdout",
     "output_type": "stream",
     "text": [
      "Epoch:  0 Time:  0.06881546974182129 Loss:  0.0017586442409083247\n",
      "Epoch:  50 Time:  0.05186271667480469 Loss:  5.264709557195602e-07\n",
      "Epoch:  100 Time:  0.048453569412231445 Loss:  2.0461920158254543e-08\n",
      "Epoch:  150 Time:  0.045877933502197266 Loss:  1.0317771526047181e-08\n",
      "Epoch:  200 Time:  0.044879913330078125 Loss:  4.881854032134925e-09\n",
      "Epoch:  250 Time:  0.0468747615814209 Loss:  2.0831494307316234e-09\n",
      "Epoch:  300 Time:  0.04787182807922363 Loss:  7.805064927701721e-10\n",
      "Epoch:  350 Time:  0.05784463882446289 Loss:  2.5820245941332587e-10\n",
      "Epoch:  400 Time:  0.0468745231628418 Loss:  7.404421520362803e-11\n",
      "Epoch:  450 Time:  0.04587864875793457 Loss:  2.013757043062281e-11\n",
      "Epoch:  500 Time:  0.047380685806274414 Loss:  4.666024511212896e-12\n",
      "Epoch:  550 Time:  0.08976197242736816 Loss:  1.0778395320362733e-12\n",
      "Epoch:  600 Time:  0.0443878173828125 Loss:  3.1844828423527316e-13\n",
      "Epoch:  650 Time:  0.04886889457702637 Loss:  1.7110546649250907e-13\n",
      "Epoch:  700 Time:  0.06333613395690918 Loss:  1.572562203068853e-13\n",
      "Epoch:  750 Time:  0.04787254333496094 Loss:  1.6241715817318786e-13\n",
      "Epoch:  800 Time:  0.052370309829711914 Loss:  1.5395349654400564e-13\n",
      "Epoch:  850 Time:  0.05186152458190918 Loss:  1.3775161295925126e-13\n",
      "Epoch:  900 Time:  0.04666256904602051 Loss:  1.2473846283146683e-13\n",
      "Epoch:  950 Time:  0.04587697982788086 Loss:  1.5727150755751734e-13\n"
     ]
    }
   ],
   "source": [
    "#'''\n",
    "epochs=1000\n",
    "time_list=[]\n",
    "loss_list=[]\n",
    "torch.cuda.empty_cache()\n",
    "model.train()\n",
    "\n",
    "for i in range(epochs):\n",
    "    \n",
    "    start=time.time()\n",
    "    \n",
    "    #k=batch_size\n",
    "    indices=random.sample(list(range(20_000, x_train_normalized.shape[0])), k=5_000)\n",
    "    \n",
    "    sequence=x_train_normalized[indices].to(device)\n",
    "    label=y_train[indices].to(device)\n",
    "    \n",
    "    \n",
    "    optimizer.zero_grad()\n",
    "    prediction=model(sequence)\n",
    "    loss=criterion(prediction, label)\n",
    "    \n",
    "    loss_list.append(loss.item())\n",
    "    \n",
    "    #model.zero_grad()\n",
    "    loss.backward()\n",
    "    optimizer.step()\n",
    "    \n",
    "    if i%5==0 or i==epochs-1:\n",
    "        torch.save(model.state_dict(), weights_path+'_normalized_'+coin+'.pth')\n",
    "    \n",
    "    end=time.time()\n",
    "    \n",
    "    time_list.append(end-start)\n",
    "    \n",
    "    if i%50==0:\n",
    "        print('Epoch: ', i, 'Time: ', time_list[-1], 'Loss: ', loss_list[-1])\n",
    "#'''"
   ]
  },
  {
   "cell_type": "code",
   "execution_count": 32,
   "metadata": {},
   "outputs": [
    {
     "data": {
      "text/plain": [
       "\"\\n#epochs=5_000\\nepochs=50\\ntime_list=[]\\nloss_list=[]\\ntorch.cuda.empty_cache()\\nmodel.train()\\n\\nfor i in range(epochs):\\n    \\n    start=time.time()\\n    \\n    sequence=x_train_normalized[20000:].to(device)\\n    label=y_train[20000:].to(device)\\n    \\n    optimizer.zero_grad()\\n    prediction=model(sequence)\\n    loss=criterion(prediction, label)\\n    \\n    loss_list.append(loss.item())\\n    \\n    #model.zero_grad()\\n    loss.backward()\\n    optimizer.step()\\n    \\n    end=time.time()\\n    \\n    if i%2==0 or i==epochs-1:\\n        torch.save(model.state_dict(), weights_path+'_normalized_'+coin+'.pth')\\n        \\n    time_list.append(end-start)\\n    \\n    print('Epoch: ', i, 'Time: ', time_list[-1], 'Loss: ', loss_list[-1])\\n#\""
      ]
     },
     "execution_count": 32,
     "metadata": {},
     "output_type": "execute_result"
    }
   ],
   "source": [
    "'''\n",
    "#epochs=5_000\n",
    "epochs=50\n",
    "time_list=[]\n",
    "loss_list=[]\n",
    "torch.cuda.empty_cache()\n",
    "model.train()\n",
    "\n",
    "for i in range(epochs):\n",
    "    \n",
    "    start=time.time()\n",
    "    \n",
    "    sequence=x_train_normalized[20000:].to(device)\n",
    "    label=y_train[20000:].to(device)\n",
    "    \n",
    "    optimizer.zero_grad()\n",
    "    prediction=model(sequence)\n",
    "    loss=criterion(prediction, label)\n",
    "    \n",
    "    loss_list.append(loss.item())\n",
    "    \n",
    "    #model.zero_grad()\n",
    "    loss.backward()\n",
    "    optimizer.step()\n",
    "    \n",
    "    end=time.time()\n",
    "    \n",
    "    if i%2==0 or i==epochs-1:\n",
    "        torch.save(model.state_dict(), weights_path+'_normalized_'+coin+'.pth')\n",
    "        \n",
    "    time_list.append(end-start)\n",
    "    \n",
    "    print('Epoch: ', i, 'Time: ', time_list[-1], 'Loss: ', loss_list[-1])\n",
    "#'''"
   ]
  },
  {
   "cell_type": "code",
   "execution_count": 33,
   "metadata": {},
   "outputs": [],
   "source": [
    "x_test_normalized=min_max_scaling(x_test)"
   ]
  },
  {
   "cell_type": "code",
   "execution_count": 34,
   "metadata": {},
   "outputs": [],
   "source": [
    "model.eval()\n",
    "with torch.no_grad():\n",
    "    trained_predictions=model(x_test_normalized)"
   ]
  },
  {
   "cell_type": "code",
   "execution_count": 35,
   "metadata": {},
   "outputs": [],
   "source": [
    "trained_ratios=[1]\n",
    "for i in range(1, trained_predictions.shape[0]):\n",
    "    trained_ratios.append(trained_predictions[i]/trained_predictions[i-1] - 1)"
   ]
  },
  {
   "cell_type": "code",
   "execution_count": 36,
   "metadata": {},
   "outputs": [],
   "source": [
    "test_ratios=[1]\n",
    "for i in range(1, y_test.shape[0]):\n",
    "    test_ratios.append(y_test[i]/y_test[i-1] - 1)"
   ]
  },
  {
   "cell_type": "code",
   "execution_count": 37,
   "metadata": {},
   "outputs": [
    {
     "data": {
      "image/png": "[encoded data removed]",
      "text/plain": [
       "<Figure size 432x288 with 1 Axes>"
      ]
     },
     "metadata": {
      "needs_background": "light"
     },
     "output_type": "display_data"
    }
   ],
   "source": [
    "plt.plot(trained_ratios[1:2500])\n",
    "plt.plot(test_ratios[1:2500])\n",
    "\n",
    "plt.show()"
   ]
  },
  {
   "cell_type": "code",
   "execution_count": 38,
   "metadata": {},
   "outputs": [
    {
     "data": {
      "image/png": "[encoded data removed]",
      "text/plain": [
       "<Figure size 432x288 with 1 Axes>"
      ]
     },
     "metadata": {
      "needs_background": "light"
     },
     "output_type": "display_data"
    }
   ],
   "source": [
    "plt.plot(trained_predictions.cpu().detach().numpy(), color='r')\n",
    "plt.plot(y_test, color='b')\n",
    "plt.title(coin)\n",
    "\n",
    "plt.show()"
   ]
  },
  {
   "cell_type": "code",
   "execution_count": 39,
   "metadata": {},
   "outputs": [
    {
     "data": {
      "text/plain": [
       "[<matplotlib.lines.Line2D at 0x1f88c65e908>]"
      ]
     },
     "execution_count": 39,
     "metadata": {},
     "output_type": "execute_result"
    },
    {
     "data": {
      "image/png": "[encoded data removed]",
      "text/plain": [
       "<Figure size 432x288 with 1 Axes>"
      ]
     },
     "metadata": {
      "needs_background": "light"
     },
     "output_type": "display_data"
    }
   ],
   "source": [
    "plt.plot(trained_predictions.cpu().detach().numpy(), color='r')"
   ]
  },
  {
   "cell_type": "code",
   "execution_count": 40,
   "metadata": {},
   "outputs": [
    {
     "data": {
      "text/plain": [
       "[<matplotlib.lines.Line2D at 0x1f88ca4eb38>]"
      ]
     },
     "execution_count": 40,
     "metadata": {},
     "output_type": "execute_result"
    },
    {
     "data": {
      "image/png": "[encoded data removed]",
      "text/plain": [
       "<Figure size 432x288 with 1 Axes>"
      ]
     },
     "metadata": {
      "needs_background": "light"
     },
     "output_type": "display_data"
    }
   ],
   "source": [
    "plt.plot(y_test, color='b')"
   ]
  },
  {
   "cell_type": "code",
   "execution_count": 41,
   "metadata": {},
   "outputs": [
    {
     "data": {
      "text/plain": [
       "'\\n## normalizing benefits:\\n    ADA, LINK, XRP\\n## non-normalization:\\n    BNB, ETH, \\n## can capture the shape doing both, not normalizing closer to price approximation \\n    BNB, ETH, LINK, LTC  \\n'"
      ]
     },
     "execution_count": 41,
     "metadata": {},
     "output_type": "execute_result"
    }
   ],
   "source": [
    "'''\n",
    "## normalizing benefits:\n",
    "    ADA, LINK, XRP\n",
    "## non-normalization:\n",
    "    BNB, ETH\n",
    "## can capture the shape doing both, not normalizing closer to price approximation \n",
    "    BNB, ETH, LINK, LTC  \n",
    "''' "
   ]
  }
 ],
 "metadata": {
  "kernelspec": {
   "display_name": "Python 3",
   "language": "python",
   "name": "python3"
  },
  "language_info": {
   "codemirror_mode": {
    "name": "ipython",
    "version": 3
   },
   "file_extension": ".py",
   "mimetype": "text/x-python",
   "name": "python",
   "nbconvert_exporter": "python",
   "pygments_lexer": "ipython3",
   "version": "3.7.3"
  }
 },
 "nbformat": 4,
 "nbformat_minor": 4
}
