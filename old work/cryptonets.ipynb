{
 "cells": [
  {
   "cell_type": "code",
   "execution_count": 1,
   "metadata": {},
   "outputs": [],
   "source": [
    "import pandas as pd\n",
    "import numpy as np\n",
    "import matplotlib.pyplot as plt\n",
    "#plt.style.use(\"seaborn\")\n",
    "%matplotlib inline\n",
    "\n",
    "import warnings\n",
    "warnings.simplefilter(\"ignore\")\n",
    "from binance.client import Client\n",
    "import time\n",
    "import statistics as stats\n",
    "from datetime import datetime\n",
    "import random\n",
    "import torch\n",
    "import torch.nn as nn\n",
    "import mlfinlab\n",
    "import glob"
   ]
  },
  {
   "cell_type": "code",
   "execution_count": 2,
   "metadata": {},
   "outputs": [],
   "source": [
    "device = torch.device('cuda' if torch.cuda.is_available() else 'cpu')"
   ]
  },
  {
   "cell_type": "code",
   "execution_count": 3,
   "metadata": {},
   "outputs": [],
   "source": [
    "df_dict = {}\n",
    "\n",
    "directory = '../data/final_data'\n",
    "all_files = glob.glob(directory + \"/*.csv\")\n",
    "\n",
    "for file in all_files:\n",
    "    \n",
    "    df = pd.read_csv(file, index_col=None, header=0).drop(columns=['Unnamed: 0'])\n",
    "    \n",
    "    df_dict[file.split('\\\\')[1][:-10]] = df"
   ]
  },
  {
   "cell_type": "code",
   "execution_count": 4,
   "metadata": {},
   "outputs": [
    {
     "data": {
      "text/html": [
       "<div>\n",
       "<style scoped>\n",
       "    .dataframe tbody tr th:only-of-type {\n",
       "        vertical-align: middle;\n",
       "    }\n",
       "\n",
       "    .dataframe tbody tr th {\n",
       "        vertical-align: top;\n",
       "    }\n",
       "\n",
       "    .dataframe thead th {\n",
       "        text-align: right;\n",
       "    }\n",
       "</style>\n",
       "<table border=\"1\" class=\"dataframe\">\n",
       "  <thead>\n",
       "    <tr style=\"text-align: right;\">\n",
       "      <th></th>\n",
       "      <th>Open Time</th>\n",
       "      <th>Time of Day</th>\n",
       "      <th>Open</th>\n",
       "      <th>High</th>\n",
       "      <th>Low</th>\n",
       "      <th>Close</th>\n",
       "      <th>Volume</th>\n",
       "      <th>Close Time</th>\n",
       "      <th>Quote asset vol</th>\n",
       "      <th>Num trades</th>\n",
       "      <th>...</th>\n",
       "      <th>fastd</th>\n",
       "      <th>SAR</th>\n",
       "      <th>ULTOSC</th>\n",
       "      <th>WILLR</th>\n",
       "      <th>AD</th>\n",
       "      <th>ADOSC</th>\n",
       "      <th>OBV</th>\n",
       "      <th>ATR</th>\n",
       "      <th>NATR</th>\n",
       "      <th>Spinning Top</th>\n",
       "    </tr>\n",
       "  </thead>\n",
       "  <tbody>\n",
       "    <tr>\n",
       "      <th>0</th>\n",
       "      <td>2017-12-04 03:00:00.000</td>\n",
       "      <td>10800</td>\n",
       "      <td>0.000011</td>\n",
       "      <td>0.000012</td>\n",
       "      <td>0.000011</td>\n",
       "      <td>0.000011</td>\n",
       "      <td>1991422.0</td>\n",
       "      <td>2017-12-04 03:29:59.999</td>\n",
       "      <td>22.743129</td>\n",
       "      <td>220.0</td>\n",
       "      <td>...</td>\n",
       "      <td>65.932193</td>\n",
       "      <td>0.000009</td>\n",
       "      <td>31.202095</td>\n",
       "      <td>-82.432432</td>\n",
       "      <td>-1.115105e+07</td>\n",
       "      <td>-2.522361e+06</td>\n",
       "      <td>45800177.0</td>\n",
       "      <td>1.994172e-07</td>\n",
       "      <td>1.994172e-07</td>\n",
       "      <td>0.0</td>\n",
       "    </tr>\n",
       "    <tr>\n",
       "      <th>1</th>\n",
       "      <td>2017-12-04 03:30:00.000</td>\n",
       "      <td>12600</td>\n",
       "      <td>0.000011</td>\n",
       "      <td>0.000011</td>\n",
       "      <td>0.000011</td>\n",
       "      <td>0.000011</td>\n",
       "      <td>4123602.0</td>\n",
       "      <td>2017-12-04 03:59:59.999</td>\n",
       "      <td>46.809428</td>\n",
       "      <td>316.0</td>\n",
       "      <td>...</td>\n",
       "      <td>56.017794</td>\n",
       "      <td>0.000009</td>\n",
       "      <td>29.874065</td>\n",
       "      <td>-98.780488</td>\n",
       "      <td>-1.494476e+07</td>\n",
       "      <td>-3.558265e+06</td>\n",
       "      <td>41676575.0</td>\n",
       "      <td>2.030303e-07</td>\n",
       "      <td>2.030303e-07</td>\n",
       "      <td>0.0</td>\n",
       "    </tr>\n",
       "    <tr>\n",
       "      <th>2</th>\n",
       "      <td>2017-12-04 04:00:00.000</td>\n",
       "      <td>14400</td>\n",
       "      <td>0.000011</td>\n",
       "      <td>0.000011</td>\n",
       "      <td>0.000011</td>\n",
       "      <td>0.000011</td>\n",
       "      <td>2136313.0</td>\n",
       "      <td>2017-12-04 04:29:59.999</td>\n",
       "      <td>24.021883</td>\n",
       "      <td>221.0</td>\n",
       "      <td>...</td>\n",
       "      <td>22.684461</td>\n",
       "      <td>0.000009</td>\n",
       "      <td>28.369373</td>\n",
       "      <td>-96.103896</td>\n",
       "      <td>-1.632708e+07</td>\n",
       "      <td>-4.098395e+06</td>\n",
       "      <td>39540262.0</td>\n",
       "      <td>2.006710e-07</td>\n",
       "      <td>2.006710e-07</td>\n",
       "      <td>1.0</td>\n",
       "    </tr>\n",
       "    <tr>\n",
       "      <th>3</th>\n",
       "      <td>2017-12-04 04:30:00.000</td>\n",
       "      <td>16200</td>\n",
       "      <td>0.000011</td>\n",
       "      <td>0.000011</td>\n",
       "      <td>0.000011</td>\n",
       "      <td>0.000011</td>\n",
       "      <td>2828688.0</td>\n",
       "      <td>2017-12-04 04:59:59.999</td>\n",
       "      <td>31.831697</td>\n",
       "      <td>257.0</td>\n",
       "      <td>...</td>\n",
       "      <td>9.387506</td>\n",
       "      <td>0.000009</td>\n",
       "      <td>29.840368</td>\n",
       "      <td>-88.888889</td>\n",
       "      <td>-1.745855e+07</td>\n",
       "      <td>-4.306790e+06</td>\n",
       "      <td>42368950.0</td>\n",
       "      <td>2.006230e-07</td>\n",
       "      <td>2.006230e-07</td>\n",
       "      <td>0.0</td>\n",
       "    </tr>\n",
       "    <tr>\n",
       "      <th>4</th>\n",
       "      <td>2017-12-04 05:00:00.000</td>\n",
       "      <td>18000</td>\n",
       "      <td>0.000011</td>\n",
       "      <td>0.000011</td>\n",
       "      <td>0.000011</td>\n",
       "      <td>0.000011</td>\n",
       "      <td>1820903.0</td>\n",
       "      <td>2017-12-04 05:29:59.999</td>\n",
       "      <td>20.481454</td>\n",
       "      <td>218.0</td>\n",
       "      <td>...</td>\n",
       "      <td>31.117726</td>\n",
       "      <td>0.000009</td>\n",
       "      <td>35.496836</td>\n",
       "      <td>-80.555556</td>\n",
       "      <td>-1.715507e+07</td>\n",
       "      <td>-3.903954e+06</td>\n",
       "      <td>44189853.0</td>\n",
       "      <td>2.034357e-07</td>\n",
       "      <td>2.034357e-07</td>\n",
       "      <td>1.0</td>\n",
       "    </tr>\n",
       "  </tbody>\n",
       "</table>\n",
       "<p>5 rows × 56 columns</p>\n",
       "</div>"
      ],
      "text/plain": [
       "                 Open Time  Time of Day      Open      High       Low  \\\n",
       "0  2017-12-04 03:00:00.000        10800  0.000011  0.000012  0.000011   \n",
       "1  2017-12-04 03:30:00.000        12600  0.000011  0.000011  0.000011   \n",
       "2  2017-12-04 04:00:00.000        14400  0.000011  0.000011  0.000011   \n",
       "3  2017-12-04 04:30:00.000        16200  0.000011  0.000011  0.000011   \n",
       "4  2017-12-04 05:00:00.000        18000  0.000011  0.000011  0.000011   \n",
       "\n",
       "      Close     Volume               Close Time  Quote asset vol  Num trades  \\\n",
       "0  0.000011  1991422.0  2017-12-04 03:29:59.999        22.743129       220.0   \n",
       "1  0.000011  4123602.0  2017-12-04 03:59:59.999        46.809428       316.0   \n",
       "2  0.000011  2136313.0  2017-12-04 04:29:59.999        24.021883       221.0   \n",
       "3  0.000011  2828688.0  2017-12-04 04:59:59.999        31.831697       257.0   \n",
       "4  0.000011  1820903.0  2017-12-04 05:29:59.999        20.481454       218.0   \n",
       "\n",
       "   ...      fastd       SAR     ULTOSC      WILLR            AD         ADOSC  \\\n",
       "0  ...  65.932193  0.000009  31.202095 -82.432432 -1.115105e+07 -2.522361e+06   \n",
       "1  ...  56.017794  0.000009  29.874065 -98.780488 -1.494476e+07 -3.558265e+06   \n",
       "2  ...  22.684461  0.000009  28.369373 -96.103896 -1.632708e+07 -4.098395e+06   \n",
       "3  ...   9.387506  0.000009  29.840368 -88.888889 -1.745855e+07 -4.306790e+06   \n",
       "4  ...  31.117726  0.000009  35.496836 -80.555556 -1.715507e+07 -3.903954e+06   \n",
       "\n",
       "          OBV           ATR          NATR  Spinning Top  \n",
       "0  45800177.0  1.994172e-07  1.994172e-07           0.0  \n",
       "1  41676575.0  2.030303e-07  2.030303e-07           0.0  \n",
       "2  39540262.0  2.006710e-07  2.006710e-07           1.0  \n",
       "3  42368950.0  2.006230e-07  2.006230e-07           0.0  \n",
       "4  44189853.0  2.034357e-07  2.034357e-07           1.0  \n",
       "\n",
       "[5 rows x 56 columns]"
      ]
     },
     "execution_count": 4,
     "metadata": {},
     "output_type": "execute_result"
    }
   ],
   "source": [
    "df_dict['ADA'].head()"
   ]
  },
  {
   "cell_type": "code",
   "execution_count": 5,
   "metadata": {},
   "outputs": [],
   "source": [
    "coin_list = list(df_dict.keys())"
   ]
  },
  {
   "cell_type": "code",
   "execution_count": null,
   "metadata": {},
   "outputs": [],
   "source": [
    "# 'Close_pct'"
   ]
  },
  {
   "cell_type": "code",
   "execution_count": 6,
   "metadata": {},
   "outputs": [],
   "source": [
    "columns = list(df_dict[coin_list[0]].columns)\n",
    "not_quant = ['Open Time','Close Time']\n",
    "quants = [i for i in columns if i not in not_quant]"
   ]
  },
  {
   "cell_type": "code",
   "execution_count": 7,
   "metadata": {},
   "outputs": [
    {
     "data": {
      "text/plain": [
       "['ADA', 'BNB', 'ETH', 'LINK', 'LTC', 'XRP']"
      ]
     },
     "execution_count": 7,
     "metadata": {},
     "output_type": "execute_result"
    }
   ],
   "source": [
    "coin_list"
   ]
  },
  {
   "cell_type": "code",
   "execution_count": 66,
   "metadata": {},
   "outputs": [],
   "source": [
    "class Process():\n",
    "    def __init__(self, data, test_size=.1, seq_len=25):\n",
    "        self.seq_len = seq_len       \n",
    "        self.test_size = test_size\n",
    "        self.sequences = []\n",
    "        self.data = data\n",
    "        self.normalize_data = None\n",
    "        #self.reduce()\n",
    "        self.create_sequences()\n",
    "        \n",
    "    def reduce(self):\n",
    "        \n",
    "        #lower = self.data.shape[0] - int(.3*self.data.shape[0]) - 336\n",
    "        #upper = self.data.shape[0] - int(.3*self.data.shape[0]) + 336\n",
    "        \n",
    "        current = self.data.shape[0]\n",
    "        \n",
    "        while current%self.seq_len!=0:\n",
    "            current -= 1\n",
    "            \n",
    "        self.data = self.data[:current]\n",
    "        \n",
    "    def create_sequences(self):\n",
    "        \n",
    "        #indices = list(range(0, self.data.shape[0], self.seq_len))\n",
    "        \n",
    "        for i in range(self.data.shape[0] - self.seq_len):\n",
    "            self.sequences.append(torch.tensor(list(self.data[i:i+self.seq_len])))\n",
    "            \n",
    "        self.sequences = torch.stack(self.sequences)\n",
    "        self.sequences = self.sequences.reshape(self.sequences.shape[0], self.seq_len, 1)\n",
    "        \n",
    "        \n",
    "    def separate(self):\n",
    "        #split_off = int(self.sequences.shape[0] * self.test_size)\n",
    "        \n",
    "        lower = self.data.shape[0] - int(self.test_size*self.data.shape[0]) - int(.05*self.data.shape[0])\n",
    "        upper = self.data.shape[0] - int(self.test_size*self.data.shape[0]) + int(.05*self.data.shape[0])\n",
    "        \n",
    "        training = self.sequences[:lower]\n",
    "        testing = self.sequences[upper:]\n",
    "        \n",
    "        training_x, training_y = training[:, :-1, :], training[:, -1, :]\n",
    "        testing_x, testing_y = testing[:, :-1, :], testing[:, -1, :]\n",
    "        \n",
    "        training_data = (training_x, training_y)\n",
    "        testing_data = (testing_x, testing_y)\n",
    "        \n",
    "        return training_data, testing_data\n",
    "    \n",
    "    def normalize(self):\n",
    "        self.normalize_data = (self.data - stats.mean(self.data))/stats.stdev(self.data)\n",
    "        \n",
    "        "
   ]
  },
  {
   "cell_type": "code",
   "execution_count": 70,
   "metadata": {},
   "outputs": [],
   "source": [
    "tensor_files='E:/Users/Justin/Desktop/Course Folders 2020/practicum/tensors/25'"
   ]
  },
  {
   "cell_type": "code",
   "execution_count": 68,
   "metadata": {
    "scrolled": false
   },
   "outputs": [
    {
     "name": "stdout",
     "output_type": "stream",
     "text": [
      "ADA : \n",
      "torch.Size([51486, 25, 1])\n",
      "training:  torch.Size([43785, 24, 1]) torch.Size([43785, 1])\n",
      "testing:  torch.Size([2551, 24, 1]) torch.Size([2551, 1])\n",
      "\n",
      "\n",
      "BNB : \n",
      "torch.Size([58160, 25, 1])\n",
      "training:  torch.Size([49458, 24, 1]) torch.Size([49458, 1])\n",
      "testing:  torch.Size([2884, 24, 1]) torch.Size([2884, 1])\n",
      "\n",
      "\n",
      "ETH : \n",
      "torch.Size([58180, 25, 1])\n",
      "training:  torch.Size([49475, 24, 1]) torch.Size([49475, 1])\n",
      "testing:  torch.Size([2885, 24, 1]) torch.Size([2885, 1])\n",
      "\n",
      "\n",
      "LINK : \n",
      "torch.Size([54517, 25, 1])\n",
      "training:  torch.Size([46361, 24, 1]) torch.Size([46361, 1])\n",
      "testing:  torch.Size([2702, 24, 1]) torch.Size([2702, 1])\n",
      "\n",
      "\n",
      "LTC : \n",
      "torch.Size([58180, 25, 1])\n",
      "training:  torch.Size([49475, 24, 1]) torch.Size([49475, 1])\n",
      "testing:  torch.Size([2885, 24, 1]) torch.Size([2885, 1])\n",
      "\n",
      "\n",
      "XRP : \n",
      "torch.Size([52839, 25, 1])\n",
      "training:  torch.Size([44935, 24, 1]) torch.Size([44935, 1])\n",
      "testing:  torch.Size([2618, 24, 1]) torch.Size([2618, 1])\n",
      "\n",
      "\n"
     ]
    }
   ],
   "source": [
    "li4={}\n",
    "li={}\n",
    "\n",
    "for coin in coin_list:\n",
    "    print(coin, ': ')\n",
    "    close = df_dict[coin]['Close']\n",
    "    process = Process(close)\n",
    "    print(process.sequences.shape)\n",
    "    li4[coin]=process.sequences\n",
    "    train, test = process.separate()\n",
    "    print('training: ', train[0].shape, train[1].shape)\n",
    "    print('testing: ', test[0].shape, test[1].shape)\n",
    "    print('\\n')\n",
    "    li[coin] = train, test"
   ]
  },
  {
   "cell_type": "code",
   "execution_count": null,
   "metadata": {},
   "outputs": [],
   "source": [
    "# 'Close_pct'"
   ]
  },
  {
   "cell_type": "code",
   "execution_count": null,
   "metadata": {},
   "outputs": [],
   "source": [
    "li4={}\n",
    "li={}\n",
    "\n",
    "for coin in coin_list:\n",
    "    print(coin, ': ')\n",
    "    close = df_dict[coin]['Close_pct']\n",
    "    process = Process(close)\n",
    "    print(process.sequences.shape)\n",
    "    li4[coin]=process.sequences\n",
    "    train, test = process.separate()\n",
    "    print('training: ', train[0].shape, train[1].shape)\n",
    "    print('testing: ', test[0].shape, test[1].shape)\n",
    "    print('\\n')\n",
    "    li[coin] = train, test"
   ]
  },
  {
   "cell_type": "code",
   "execution_count": 71,
   "metadata": {},
   "outputs": [],
   "source": [
    "torch.save(li4, tensor_files+'/complete25.pth')\n",
    "torch.save(li, tensor_files+'/complete25train_test.pth')"
   ]
  },
  {
   "cell_type": "code",
   "execution_count": null,
   "metadata": {},
   "outputs": [],
   "source": [
    "process.sequences"
   ]
  },
  {
   "cell_type": "code",
   "execution_count": 25,
   "metadata": {},
   "outputs": [],
   "source": [
    "class Net(nn.Module):\n",
    "    def __init__(self, input_size, output_size):\n",
    "        super(Net, self).__init__()\n",
    "        self.fc1 = nn.Linear(input_size, 300)\n",
    "        self.fc2 = nn.Linear(300, 150)\n",
    "        self.fc3 = nn.Linear(150, 60)\n",
    "        self.fc4 = nn.Linear(60, output_size)\n",
    "        self.sigmoid = nn.Sigmoid()\n",
    "\n",
    "    def forward(self, x):\n",
    "        x = self.sigmoid(self.fc1(x))\n",
    "        x = self.sigmoid(self.fc2(x))\n",
    "        x = self.sigmoid(self.fc3(x))\n",
    "        return self.sigmoid(self.fc4(x))"
   ]
  },
  {
   "cell_type": "code",
   "execution_count": 26,
   "metadata": {},
   "outputs": [],
   "source": [
    "class LSTM(nn.Module):\n",
    "\n",
    "    def __init__(self, input_dim, hidden_dim, num_layers, output_dim):\n",
    "        super(LSTM, self).__init__()\n",
    "        self.hidden_dim = hidden_dim\n",
    "        self.num_layers = num_layers\n",
    "        self.lstm = nn.LSTM(input_dim, hidden_dim, num_layers, batch_first=True).to(device)\n",
    "        self.l1 = nn.Linear(hidden_dim, output_dim).to(device)\n",
    "        #self.relu = nn.ReLU()\n",
    "\n",
    "    def forward(self, x):\n",
    "        h0 = torch.zeros(self.num_layers, x.shape[0], self.hidden_dim).requires_grad_()\n",
    "        #h0=h0.to(device)\n",
    "        c0 = torch.zeros(self.num_layers, x.shape[0], self.hidden_dim).requires_grad_()\n",
    "        #c0=c0.to(device)\n",
    "        output, (hn, cn) = self.lstm(x.to(device), (h0.detach().to(device), c0.detach().to(device)))\n",
    "        #out = self.relu(self.l1(output[:, -1, :]))\n",
    "        out = self.l1(output[:, -1, :])\n",
    "        return out"
   ]
  },
  {
   "cell_type": "code",
   "execution_count": 27,
   "metadata": {},
   "outputs": [],
   "source": [
    "class GRU(nn.Module):\n",
    "\n",
    "    def __init__(self, input_dim, hidden_dim, num_layers, output_dim):\n",
    "        super(GRU, self).__init__()\n",
    "        self.hidden_dim = hidden_dim\n",
    "        self.num_layers = num_layers\n",
    "        self.gru = nn.GRU(input_dim, hidden_dim, num_layers, batch_first=True)\n",
    "        self.l1 = nn.Linear(hidden_dim, output_dim)\n",
    "\n",
    "    def forward(self, x):\n",
    "        h0 = torch.zeros(self.num_layers, x.shape[0], self.hidden_dim).requires_grad_()\n",
    "        c0 = torch.zeros(self.num_layers, x.shape[0], self.hidden_dim).requires_grad_()\n",
    "        output, (hn, cn) = self.gru(x, (h0.detach(), c0.detach())) \n",
    "        out = self.l1(output[:, -1, :])\n",
    "        return out"
   ]
  },
  {
   "cell_type": "code",
   "execution_count": 61,
   "metadata": {},
   "outputs": [],
   "source": [
    "class Optimization:\n",
    "    \n",
    "    def __init__(self, model, loss, weights_path, coin, training_data, testing_data, epochs=50, batch_size=1):\n",
    "            \n",
    "        self.model = model\n",
    "        self.optimizer = torch.optim.Adam(self.model.parameters(), lr=.01)\n",
    "        self.criterion = loss\n",
    "        self.x_train, self.y_train = training_data\n",
    "        self.x_test, self.y_test = testing_data\n",
    "        self.epochs = epochs\n",
    "        self.batch_size = batch_size\n",
    "        self.loss_list = []\n",
    "        self.train_time_list = []\n",
    "        self.test_time_list = []\n",
    "        self.results = []\n",
    "        self.coin=coin\n",
    "        self.weights_path=weights_path\n",
    "        \n",
    "    def train(self):\n",
    "        \n",
    "        for _ in range(self.epochs):\n",
    "        \n",
    "            start = time.time()\n",
    "            \n",
    "            #indices = random.sample(list(range(0, self.x_train.shape[0])), k=5_000)\n",
    "            indices = random.sample(list(range(0, self.x_train.shape[0])), k=10_000)\n",
    "\n",
    "            #for i in range(self.x_train.shape[0]):\n",
    "            for i in indices:\n",
    "                \n",
    "                if self.batch_size > 1:\n",
    "                    \n",
    "                    sequence = self.x_train[indices[indices.index(i)*self.batch_size]:indices[indices.index(i)*self.batch_size+self.batch_size]].to(device)\n",
    "                    label = self.x_train[indices[indices.index(i)*self.batch_size]:indices[indices.index(i)*self.batch_size+self.batch_size]].to(device)\n",
    "\n",
    "                else:\n",
    "                    sequence = self.x_train[i].reshape(self.batch_size, self.x_train.shape[1], 1).to(device)\n",
    "                    label = self.y_train[i].to(device)\n",
    "                \n",
    "                self.optimizer.zero_grad()\n",
    "                #self.model.zero_grad()\n",
    "                result = self.model(sequence)\n",
    "                loss = self.criterion(result, label)\n",
    "                self.loss_list.append(loss.item())\n",
    "                loss.backward()\n",
    "                self.optimizer.step()\n",
    "                                \n",
    "            end = time.time()\n",
    "            tot_time = end - start\n",
    "            \n",
    "            self.train_time_list.append(tot_time)\n",
    "            \n",
    "            if _%2==0 or _==self.epochs-1:\n",
    "\n",
    "                print('Epoch: ', _ + 1, 'Time: ', self.train_time_list[-1], 'Loss: ', sum(self.loss_list))\n",
    "            \n",
    "                saver=(self.epochs, self.optimizer, self.criterion, self.model.state_dict(), self.model)\n",
    "                \n",
    "                torch.save(saver, self.weights_path+self.coin+'params.pth')\n",
    "            \n",
    "            self.loss_list=[]\n",
    "                \n",
    "    def test(self):\n",
    "        start = time.time()\n",
    "        \n",
    "        self.model.load_state_dict(torch.load(self.weights_path+self.coin+'params.pth')[3])\n",
    "        \n",
    "        with torch.no_grad():\n",
    "        \n",
    "            for i in range(self.x_test.shape[0]):\n",
    "\n",
    "                sequence = self.x_test[i].to(device)\n",
    "                #label = self.y_test[i]\n",
    "\n",
    "                result = self.model(sequence.reshape(self.batch_size, sequence.shape[0], 1))\n",
    "                self.results.append(result)\n",
    "\n",
    "        \n",
    "        end = time.time()\n",
    "        tot_time = end-start\n",
    "        self.test_time_list.append(tot_time)\n",
    "    \n",
    "    def min_max_scaling(self, x):\n",
    "        return (x-torch.min(x))/(torch.max(x)-torch.min(x))\n",
    "    \n",
    "   "
   ]
  },
  {
   "cell_type": "code",
   "execution_count": 24,
   "metadata": {},
   "outputs": [
    {
     "data": {
      "text/plain": [
       "torch.Size([41210, 24, 1])"
      ]
     },
     "execution_count": 24,
     "metadata": {},
     "output_type": "execute_result"
    }
   ],
   "source": [
    "li['ADA'][0][0].shape"
   ]
  },
  {
   "cell_type": "code",
   "execution_count": 29,
   "metadata": {},
   "outputs": [],
   "source": [
    "weights_path='E:/Users/Justin/Desktop/Course Folders 2020/practicum/weights/'"
   ]
  },
  {
   "cell_type": "code",
   "execution_count": 72,
   "metadata": {},
   "outputs": [],
   "source": [
    "def min_max_scaling(x):\n",
    "    return (x-torch.min(x))/(torch.max(x)-torch.min(x))"
   ]
  },
  {
   "cell_type": "code",
   "execution_count": 55,
   "metadata": {},
   "outputs": [],
   "source": [
    "input_dim = 1\n",
    "hidden_dim = 24\n",
    "n_layers = 5\n",
    "output_dim = 1\n",
    "\n",
    "model = LSTM(input_dim, hidden_dim, n_layers, output_dim)\n",
    "\n",
    "#criterion = nn.CrossEntropyLoss()\n",
    "criterion = nn.MSELoss(reduction='mean')\n",
    "\n",
    "#optimizer = torch.optim.SGD(model.parameters(), lr=.1)\n",
    "#optimizer = torch.optim.Adam(model.parameters(), lr=.01)"
   ]
  },
  {
   "cell_type": "code",
   "execution_count": 62,
   "metadata": {},
   "outputs": [
    {
     "name": "stdout",
     "output_type": "stream",
     "text": [
      "ADA\n",
      "Epoch:  1 Time:  152.57839488983154 Loss:  0.001727681139875188\n",
      "Epoch:  3 Time:  152.41341161727905 Loss:  0.0007587072779339167\n",
      "Epoch:  5 Time:  153.8522183895111 Loss:  0.0007568692625206127\n",
      "Epoch:  7 Time:  152.00651931762695 Loss:  0.0007523928864851607\n",
      "Epoch:  9 Time:  146.1497049331665 Loss:  0.0007499804718756512\n",
      "Epoch:  11 Time:  147.79075956344604 Loss:  0.0007576726573049542\n",
      "Epoch:  13 Time:  147.03528428077698 Loss:  0.0007516282426762449\n",
      "Epoch:  15 Time:  147.79920268058777 Loss:  0.0007521786323842474\n"
     ]
    }
   ],
   "source": [
    "coin='ADA'\n",
    "train, test=li[coin]\n",
    "print(coin)\n",
    "optimize = Optimization(model, criterion, weights_path, coin, train, test, epochs=15)\n",
    "optimize.train()"
   ]
  },
  {
   "cell_type": "code",
   "execution_count": 63,
   "metadata": {},
   "outputs": [
    {
     "data": {
      "image/png": "[encoded data removed]",
      "text/plain": [
       "<Figure size 432x288 with 1 Axes>"
      ]
     },
     "metadata": {
      "needs_background": "light"
     },
     "output_type": "display_data"
    }
   ],
   "source": [
    "optimize.test()\n",
    "\n",
    "plt.plot(li['ADA'][1][1], color='r')\n",
    "plt.plot(optimize.results, color='b')\n",
    "\n",
    "plt.show()"
   ]
  },
  {
   "cell_type": "code",
   "execution_count": 15,
   "metadata": {},
   "outputs": [
    {
     "name": "stdout",
     "output_type": "stream",
     "text": [
      "ADA\n"
     ]
    },
    {
     "ename": "TypeError",
     "evalue": "__init__() missing 1 required positional argument: 'testing_data'",
     "output_type": "error",
     "traceback": [
      "\u001b[1;31m---------------------------------------------------------------------------\u001b[0m",
      "\u001b[1;31mTypeError\u001b[0m                                 Traceback (most recent call last)",
      "\u001b[1;32m<ipython-input-15-23e3562221ee>\u001b[0m in \u001b[0;36m<module>\u001b[1;34m\u001b[0m\n\u001b[0;32m     19\u001b[0m     \u001b[0mtrain\u001b[0m\u001b[1;33m,\u001b[0m \u001b[0mtest\u001b[0m\u001b[1;33m=\u001b[0m\u001b[0mli\u001b[0m\u001b[1;33m[\u001b[0m\u001b[0mcoin\u001b[0m\u001b[1;33m]\u001b[0m\u001b[1;33m\u001b[0m\u001b[1;33m\u001b[0m\u001b[0m\n\u001b[0;32m     20\u001b[0m     \u001b[0mprint\u001b[0m\u001b[1;33m(\u001b[0m\u001b[0mcoin\u001b[0m\u001b[1;33m)\u001b[0m\u001b[1;33m\u001b[0m\u001b[1;33m\u001b[0m\u001b[0m\n\u001b[1;32m---> 21\u001b[1;33m     \u001b[0moptimize\u001b[0m \u001b[1;33m=\u001b[0m \u001b[0mOptimization\u001b[0m\u001b[1;33m(\u001b[0m\u001b[0moptimizer\u001b[0m\u001b[1;33m,\u001b[0m \u001b[0mmodel\u001b[0m\u001b[1;33m,\u001b[0m \u001b[0mcriterion\u001b[0m\u001b[1;33m,\u001b[0m \u001b[0mcoin\u001b[0m\u001b[1;33m,\u001b[0m \u001b[0mtrain\u001b[0m\u001b[1;33m,\u001b[0m \u001b[0mtest\u001b[0m\u001b[1;33m,\u001b[0m \u001b[0mepochs\u001b[0m\u001b[1;33m=\u001b[0m\u001b[1;36m15\u001b[0m\u001b[1;33m)\u001b[0m\u001b[1;33m\u001b[0m\u001b[1;33m\u001b[0m\u001b[0m\n\u001b[0m\u001b[0;32m     22\u001b[0m     \u001b[0moptimize\u001b[0m\u001b[1;33m.\u001b[0m\u001b[0mtrain\u001b[0m\u001b[1;33m(\u001b[0m\u001b[1;33m)\u001b[0m\u001b[1;33m\u001b[0m\u001b[1;33m\u001b[0m\u001b[0m\n\u001b[0;32m     23\u001b[0m     \u001b[0mprint\u001b[0m\u001b[1;33m(\u001b[0m\u001b[1;34m'\\n'\u001b[0m\u001b[1;33m)\u001b[0m\u001b[1;33m\u001b[0m\u001b[1;33m\u001b[0m\u001b[0m\n",
      "\u001b[1;31mTypeError\u001b[0m: __init__() missing 1 required positional argument: 'testing_data'"
     ]
    }
   ],
   "source": [
    "weights_path='E:/Users/Justin/Desktop/Course Folders 2020/practicum/weights/'\n",
    "\n",
    "for coin in coin_list:\n",
    "    \n",
    "    input_dim = 1\n",
    "    hidden_dim = 24\n",
    "    n_layers = 2\n",
    "    output_dim = 1\n",
    "\n",
    "    model = LSTM(input_dim, hidden_dim, n_layers, output_dim)\n",
    "\n",
    "    #criterion = nn.CrossEntropyLoss()\n",
    "    criterion = nn.MSELoss(reduction='mean')\n",
    "\n",
    "    #optimizer = torch.optim.SGD(model.parameters(), lr=.1)\n",
    "    optimizer = torch.optim.Adam(model.parameters(), lr=.001)\n",
    "    \n",
    "    \n",
    "    train, test=li[coin]\n",
    "    print(coin)\n",
    "    optimize = Optimization(model, criterion, weights_path, coin, train, test, epochs=15)\n",
    "    optimize.train()\n",
    "    print('\\n')"
   ]
  },
  {
   "cell_type": "code",
   "execution_count": 45,
   "metadata": {},
   "outputs": [
    {
     "ename": "AttributeError",
     "evalue": "'MSELoss' object has no attribute 'copy'",
     "output_type": "error",
     "traceback": [
      "\u001b[1;31m---------------------------------------------------------------------------\u001b[0m",
      "\u001b[1;31mAttributeError\u001b[0m                            Traceback (most recent call last)",
      "\u001b[1;32m<ipython-input-45-e5f5c4c378da>\u001b[0m in \u001b[0;36m<module>\u001b[1;34m\u001b[0m\n\u001b[0;32m      2\u001b[0m \u001b[0moptimize\u001b[0m \u001b[1;33m=\u001b[0m \u001b[0mOptimization\u001b[0m\u001b[1;33m(\u001b[0m\u001b[0moptimizer\u001b[0m\u001b[1;33m,\u001b[0m \u001b[0mmodel\u001b[0m\u001b[1;33m,\u001b[0m \u001b[0mcriterion\u001b[0m\u001b[1;33m,\u001b[0m \u001b[0mweights_path\u001b[0m\u001b[1;33m,\u001b[0m \u001b[0mcoin\u001b[0m\u001b[1;33m,\u001b[0m \u001b[0mtrain\u001b[0m\u001b[1;33m,\u001b[0m \u001b[0mtest\u001b[0m\u001b[1;33m,\u001b[0m \u001b[0mepochs\u001b[0m\u001b[1;33m=\u001b[0m\u001b[1;36m15\u001b[0m\u001b[1;33m)\u001b[0m\u001b[1;33m\u001b[0m\u001b[1;33m\u001b[0m\u001b[0m\n\u001b[0;32m      3\u001b[0m \u001b[1;33m\u001b[0m\u001b[0m\n\u001b[1;32m----> 4\u001b[1;33m \u001b[0moptimize\u001b[0m\u001b[1;33m.\u001b[0m\u001b[0mtest\u001b[0m\u001b[1;33m(\u001b[0m\u001b[1;33m)\u001b[0m\u001b[1;33m\u001b[0m\u001b[1;33m\u001b[0m\u001b[0m\n\u001b[0m\u001b[0;32m      5\u001b[0m \u001b[1;33m\u001b[0m\u001b[0m\n\u001b[0;32m      6\u001b[0m \u001b[0mplt\u001b[0m\u001b[1;33m.\u001b[0m\u001b[0mplot\u001b[0m\u001b[1;33m(\u001b[0m\u001b[0mli\u001b[0m\u001b[1;33m[\u001b[0m\u001b[1;34m'ADA'\u001b[0m\u001b[1;33m]\u001b[0m\u001b[1;33m[\u001b[0m\u001b[1;36m1\u001b[0m\u001b[1;33m]\u001b[0m\u001b[1;33m[\u001b[0m\u001b[1;36m1\u001b[0m\u001b[1;33m]\u001b[0m\u001b[1;33m,\u001b[0m \u001b[0mcolor\u001b[0m\u001b[1;33m=\u001b[0m\u001b[1;34m'r'\u001b[0m\u001b[1;33m)\u001b[0m\u001b[1;33m\u001b[0m\u001b[1;33m\u001b[0m\u001b[0m\n",
      "\u001b[1;32m<ipython-input-44-6d0e32b1480d>\u001b[0m in \u001b[0;36mtest\u001b[1;34m(self)\u001b[0m\n\u001b[0;32m     64\u001b[0m         \u001b[0mstart\u001b[0m \u001b[1;33m=\u001b[0m \u001b[0mtime\u001b[0m\u001b[1;33m.\u001b[0m\u001b[0mtime\u001b[0m\u001b[1;33m(\u001b[0m\u001b[1;33m)\u001b[0m\u001b[1;33m\u001b[0m\u001b[1;33m\u001b[0m\u001b[0m\n\u001b[0;32m     65\u001b[0m \u001b[1;33m\u001b[0m\u001b[0m\n\u001b[1;32m---> 66\u001b[1;33m         \u001b[0mself\u001b[0m\u001b[1;33m.\u001b[0m\u001b[0mmodel\u001b[0m\u001b[1;33m.\u001b[0m\u001b[0mload_state_dict\u001b[0m\u001b[1;33m(\u001b[0m\u001b[0mtorch\u001b[0m\u001b[1;33m.\u001b[0m\u001b[0mload\u001b[0m\u001b[1;33m(\u001b[0m\u001b[0mself\u001b[0m\u001b[1;33m.\u001b[0m\u001b[0mweights_path\u001b[0m\u001b[1;33m+\u001b[0m\u001b[0mself\u001b[0m\u001b[1;33m.\u001b[0m\u001b[0mcoin\u001b[0m\u001b[1;33m+\u001b[0m\u001b[1;34m'params.pth'\u001b[0m\u001b[1;33m)\u001b[0m\u001b[1;33m[\u001b[0m\u001b[1;36m2\u001b[0m\u001b[1;33m]\u001b[0m\u001b[1;33m)\u001b[0m\u001b[1;33m\u001b[0m\u001b[1;33m\u001b[0m\u001b[0m\n\u001b[0m\u001b[0;32m     67\u001b[0m \u001b[1;33m\u001b[0m\u001b[0m\n\u001b[0;32m     68\u001b[0m         \u001b[1;32mwith\u001b[0m \u001b[0mtorch\u001b[0m\u001b[1;33m.\u001b[0m\u001b[0mno_grad\u001b[0m\u001b[1;33m(\u001b[0m\u001b[1;33m)\u001b[0m\u001b[1;33m:\u001b[0m\u001b[1;33m\u001b[0m\u001b[1;33m\u001b[0m\u001b[0m\n",
      "\u001b[1;32mE:\\Users\\Justin\\Anaconda3\\lib\\site-packages\\torch\\nn\\modules\\module.py\u001b[0m in \u001b[0;36mload_state_dict\u001b[1;34m(self, state_dict, strict)\u001b[0m\n\u001b[0;32m    801\u001b[0m         \u001b[1;31m# copy state_dict so _load_from_state_dict can modify it\u001b[0m\u001b[1;33m\u001b[0m\u001b[1;33m\u001b[0m\u001b[1;33m\u001b[0m\u001b[0m\n\u001b[0;32m    802\u001b[0m         \u001b[0mmetadata\u001b[0m \u001b[1;33m=\u001b[0m \u001b[0mgetattr\u001b[0m\u001b[1;33m(\u001b[0m\u001b[0mstate_dict\u001b[0m\u001b[1;33m,\u001b[0m \u001b[1;34m'_metadata'\u001b[0m\u001b[1;33m,\u001b[0m \u001b[1;32mNone\u001b[0m\u001b[1;33m)\u001b[0m\u001b[1;33m\u001b[0m\u001b[1;33m\u001b[0m\u001b[0m\n\u001b[1;32m--> 803\u001b[1;33m         \u001b[0mstate_dict\u001b[0m \u001b[1;33m=\u001b[0m \u001b[0mstate_dict\u001b[0m\u001b[1;33m.\u001b[0m\u001b[0mcopy\u001b[0m\u001b[1;33m(\u001b[0m\u001b[1;33m)\u001b[0m\u001b[1;33m\u001b[0m\u001b[1;33m\u001b[0m\u001b[0m\n\u001b[0m\u001b[0;32m    804\u001b[0m         \u001b[1;32mif\u001b[0m \u001b[0mmetadata\u001b[0m \u001b[1;32mis\u001b[0m \u001b[1;32mnot\u001b[0m \u001b[1;32mNone\u001b[0m\u001b[1;33m:\u001b[0m\u001b[1;33m\u001b[0m\u001b[1;33m\u001b[0m\u001b[0m\n\u001b[0;32m    805\u001b[0m             \u001b[0mstate_dict\u001b[0m\u001b[1;33m.\u001b[0m\u001b[0m_metadata\u001b[0m \u001b[1;33m=\u001b[0m \u001b[0mmetadata\u001b[0m\u001b[1;33m\u001b[0m\u001b[1;33m\u001b[0m\u001b[0m\n",
      "\u001b[1;32mE:\\Users\\Justin\\Anaconda3\\lib\\site-packages\\torch\\nn\\modules\\module.py\u001b[0m in \u001b[0;36m__getattr__\u001b[1;34m(self, name)\u001b[0m\n\u001b[0;32m    574\u001b[0m                 \u001b[1;32mreturn\u001b[0m \u001b[0mmodules\u001b[0m\u001b[1;33m[\u001b[0m\u001b[0mname\u001b[0m\u001b[1;33m]\u001b[0m\u001b[1;33m\u001b[0m\u001b[1;33m\u001b[0m\u001b[0m\n\u001b[0;32m    575\u001b[0m         raise AttributeError(\"'{}' object has no attribute '{}'\".format(\n\u001b[1;32m--> 576\u001b[1;33m             type(self).__name__, name))\n\u001b[0m\u001b[0;32m    577\u001b[0m \u001b[1;33m\u001b[0m\u001b[0m\n\u001b[0;32m    578\u001b[0m     \u001b[1;32mdef\u001b[0m \u001b[0m__setattr__\u001b[0m\u001b[1;33m(\u001b[0m\u001b[0mself\u001b[0m\u001b[1;33m,\u001b[0m \u001b[0mname\u001b[0m\u001b[1;33m,\u001b[0m \u001b[0mvalue\u001b[0m\u001b[1;33m)\u001b[0m\u001b[1;33m:\u001b[0m\u001b[1;33m\u001b[0m\u001b[1;33m\u001b[0m\u001b[0m\n",
      "\u001b[1;31mAttributeError\u001b[0m: 'MSELoss' object has no attribute 'copy'"
     ]
    }
   ],
   "source": [
    "coin='ADA'\n",
    "optimize = Optimization(optimizer, model, criterion, weights_path, coin, train, test, epochs=15)\n",
    "\n",
    "optimize.test()\n",
    "\n",
    "plt.plot(li['ADA'][1][1], color='r')\n",
    "plt.plot(optimize.results, color='b')\n",
    "\n",
    "plt.show()"
   ]
  },
  {
   "cell_type": "code",
   "execution_count": null,
   "metadata": {},
   "outputs": [],
   "source": []
  },
  {
   "cell_type": "code",
   "execution_count": null,
   "metadata": {},
   "outputs": [],
   "source": [
    "li['ADA'][1][1].shape"
   ]
  },
  {
   "cell_type": "code",
   "execution_count": null,
   "metadata": {},
   "outputs": [],
   "source": [
    "plt.plot(li['ADA'][1][1])\n",
    "plt.plot(optimize.results)\n",
    "\n",
    "plt.show()"
   ]
  },
  {
   "cell_type": "code",
   "execution_count": null,
   "metadata": {},
   "outputs": [],
   "source": [
    "#minisgd\n",
    "#sgd"
   ]
  },
  {
   "cell_type": "code",
   "execution_count": null,
   "metadata": {},
   "outputs": [],
   "source": [
    "targets = 'BTC LINK VET BNB ETH XRP XTZ LTC'"
   ]
  },
  {
   "cell_type": "code",
   "execution_count": null,
   "metadata": {},
   "outputs": [],
   "source": [
    "optimize.test()"
   ]
  },
  {
   "cell_type": "code",
   "execution_count": null,
   "metadata": {},
   "outputs": [],
   "source": [
    "plt.plot(optimize.results)\n",
    "plt.plot(test[1])\n",
    "\n",
    "plt.show()"
   ]
  },
  {
   "cell_type": "code",
   "execution_count": null,
   "metadata": {},
   "outputs": [],
   "source": [
    "model = GRU(input_dim, hidden_dim, n_layers, output_dim)\n",
    "\n",
    "#criterion = nn.CrossEntropyLoss()\n",
    "criterion = nn.MSELoss(reduction='mean')\n",
    "\n",
    "#optimizer = torch.optim.SGD(model.parameters(), lr=.1)\n",
    "optimiser = torch.optim.Adam(model.parameters(), lr=.01)\n",
    "\n",
    "optimize = Optimization(optimizer, model, criterion, train, test)"
   ]
  },
  {
   "cell_type": "code",
   "execution_count": null,
   "metadata": {},
   "outputs": [],
   "source": [
    "plt.plot(test[1])\n",
    "plt.plot(optimize.results)\n",
    "\n",
    "plt.show()"
   ]
  }
 ],
 "metadata": {
  "kernelspec": {
   "display_name": "Python 3",
   "language": "python",
   "name": "python3"
  },
  "language_info": {
   "codemirror_mode": {
    "name": "ipython",
    "version": 3
   },
   "file_extension": ".py",
   "mimetype": "text/x-python",
   "name": "python",
   "nbconvert_exporter": "python",
   "pygments_lexer": "ipython3",
   "version": "3.7.3"
  }
 },
 "nbformat": 4,
 "nbformat_minor": 4
}
